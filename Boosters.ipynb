{
 "cells": [
  {
   "cell_type": "code",
   "execution_count": 1,
   "metadata": {},
   "outputs": [
    {
     "name": "stdout",
     "output_type": "stream",
     "text": [
      "Once deleted, variables cannot be recovered. Proceed (y/[n])? y\n"
     ]
    },
    {
     "name": "stderr",
     "output_type": "stream",
     "text": [
      "ERROR:root:Invalid alias: The name clear can't be aliased because it is another magic command.\n",
      "ERROR:root:Invalid alias: The name more can't be aliased because it is another magic command.\n",
      "ERROR:root:Invalid alias: The name less can't be aliased because it is another magic command.\n",
      "ERROR:root:Invalid alias: The name man can't be aliased because it is another magic command.\n"
     ]
    }
   ],
   "source": [
    "# %whos\n",
    "%reset"
   ]
  },
  {
   "cell_type": "code",
   "execution_count": 2,
   "metadata": {},
   "outputs": [
    {
     "name": "stderr",
     "output_type": "stream",
     "text": [
      "/Users/flatironschool/anaconda3/lib/python3.7/site-packages/sklearn/ensemble/weight_boosting.py:29: DeprecationWarning: numpy.core.umath_tests is an internal NumPy module and should not be imported. It will be removed in a future NumPy release.\n",
      "  from numpy.core.umath_tests import inner1d\n"
     ]
    }
   ],
   "source": [
    "import pandas as pd\n",
    "import numpy as np\n",
    "from numpy import mean\n",
    "from numpy import std\n",
    "import seaborn as sns\n",
    "import matplotlib.pyplot as plt\n",
    "import statsmodels.api as sm\n",
    "from pylab import rcParams\n",
    "from scipy import stats\n",
    "from sklearn.linear_model import LogisticRegression\n",
    "from sklearn.model_selection import train_test_split, cross_val_score\n",
    "from sklearn.preprocessing import StandardScaler\n",
    "from sklearn.decomposition import PCA\n",
    "from sklearn.neighbors import KNeighborsClassifier\n",
    "from sklearn.metrics import precision_score, recall_score, accuracy_score, f1_score\n",
    "from sklearn.dummy import DummyClassifier\n",
    "from imblearn.over_sampling import SMOTE, ADASYN\n",
    "from sklearn import metrics\n",
    "from sklearn.metrics import roc_auc_score, roc_curve, auc, confusion_matrix, classification_report\n",
    "from sklearn.model_selection import GridSearchCV\n",
    "from sklearn.tree import DecisionTreeClassifier\n",
    "from sklearn.ensemble import AdaBoostClassifier, GradientBoostingClassifier\n",
    "from sklearn.metrics import accuracy_score, f1_score, confusion_matrix, classification_report\n",
    "from tqdm import tqdm"
   ]
  },
  {
   "cell_type": "code",
   "execution_count": 3,
   "metadata": {},
   "outputs": [],
   "source": [
    "def CorrMtx(df, dropDuplicates = True):\n",
    "\n",
    "    # Your dataset is already a correlation matrix.\n",
    "    # If you have a dateset where you need to include the calculation\n",
    "    # of a correlation matrix, just uncomment the line below:\n",
    "    # df = df.corr()\n",
    "\n",
    "    # Exclude duplicate correlations by masking uper right values\n",
    "    if dropDuplicates:    \n",
    "        mask = np.zeros_like(df, dtype=np.bool)\n",
    "        mask[np.triu_indices_from(mask)] = True\n",
    "\n",
    "    # Set background color / chart style\n",
    "    sns.set_style(style = 'white')\n",
    "\n",
    "    # Set up  matplotlib figure\n",
    "    f, ax = plt.subplots(figsize=(11, 9))\n",
    "\n",
    "    # Add diverging colormap from red to blue\n",
    "    cmap = sns.diverging_palette(250, 10, as_cmap=True)\n",
    "\n",
    "    # Draw correlation plot with or without duplicates\n",
    "    if dropDuplicates:\n",
    "        sns.heatmap(df, mask=mask, cmap=cmap, \n",
    "                square=True,\n",
    "                linewidth=.5, cbar_kws={\"shrink\": .5}, ax=ax)\n",
    "        plt.xticks(rotation = 90)\n",
    "    else:\n",
    "        sns.heatmap(df, cmap=cmap, \n",
    "                square=True,\n",
    "                linewidth=.5, cbar_kws={\"shrink\": .5}, ax=ax)\n",
    "        plt.xticks(rotation = 90)"
   ]
  },
  {
   "cell_type": "code",
   "execution_count": 4,
   "metadata": {},
   "outputs": [],
   "source": [
    "data = pd.read_csv('NYCPoverty2017.csv')"
   ]
  },
  {
   "cell_type": "code",
   "execution_count": 5,
   "metadata": {},
   "outputs": [],
   "source": [
    "#Replace missing values with 0\n",
    "data = data.fillna(0)"
   ]
  },
  {
   "cell_type": "code",
   "execution_count": 6,
   "metadata": {},
   "outputs": [
    {
     "data": {
      "text/plain": [
       "2    55985\n",
       "1    12109\n",
       "Name: NYCgov_Pov_Stat, dtype: int64"
      ]
     },
     "execution_count": 6,
     "metadata": {},
     "output_type": "execute_result"
    }
   ],
   "source": [
    "data.NYCgov_Pov_Stat.value_counts()"
   ]
  },
  {
   "cell_type": "code",
   "execution_count": 7,
   "metadata": {
    "scrolled": true
   },
   "outputs": [],
   "source": [
    "# changing PovStatus values from 1 and 2 to 0 and 1\n",
    "data['NYCgov_Pov_Stat'].replace([1,2],[0,1], inplace=True)"
   ]
  },
  {
   "cell_type": "code",
   "execution_count": 8,
   "metadata": {},
   "outputs": [
    {
     "data": {
      "text/plain": [
       "1    55985\n",
       "0    12109\n",
       "Name: NYCgov_Pov_Stat, dtype: int64"
      ]
     },
     "execution_count": 8,
     "metadata": {},
     "output_type": "execute_result"
    }
   ],
   "source": [
    "# confirm\n",
    "data.NYCgov_Pov_Stat.value_counts()"
   ]
  },
  {
   "cell_type": "code",
   "execution_count": 9,
   "metadata": {},
   "outputs": [],
   "source": [
    "chosen_catcols = ['CIT','SEX','ESR','DIS','Ethnicity','Boro']"
   ]
  },
  {
   "cell_type": "code",
   "execution_count": 10,
   "metadata": {},
   "outputs": [],
   "source": [
    "data[chosen_catcols] = data[chosen_catcols].astype(np.str)"
   ]
  },
  {
   "cell_type": "code",
   "execution_count": 11,
   "metadata": {},
   "outputs": [],
   "source": [
    "chosen_cols6 = ['TotalWorkHrs_PU', 'NYCgov_Income','NYCgov_Threshold','ENG', \\\n",
    "                'AGEP','CIT', 'SEX', 'ESR', 'DIS', 'Ethnicity', 'Boro', \\\n",
    "                'EducAttain', 'NYCgov_Housing', 'NYCgov_PovGapIndex']"
   ]
  },
  {
   "cell_type": "code",
   "execution_count": 12,
   "metadata": {},
   "outputs": [],
   "source": [
    "chosen_cols7 = ['ENG', 'AGEP','CIT', 'SEX', 'ESR', 'DIS', 'Ethnicity', 'Boro', \\\n",
    "                'EducAttain', 'NYCgov_Housing', 'NYCgov_PovGapIndex']"
   ]
  },
  {
   "cell_type": "code",
   "execution_count": 13,
   "metadata": {},
   "outputs": [
    {
     "data": {
      "text/plain": [
       "Index(['SERIALNO', 'SPORDER', 'PWGTP', 'WGTP', 'AGEP', 'CIT', 'REL', 'SCH',\n",
       "       'SCHG', 'SCHL', 'SEX', 'ESR', 'LANX', 'ENG', 'MSP', 'MAR', 'WKW',\n",
       "       'WKHP', 'DIS', 'JWTR', 'NP', 'TEN', 'HHT', 'Boro', 'Povunit_ID',\n",
       "       'Povunit_Rel', 'HIUnit_ID', 'HIUnit_Head', 'SNAPUnit_ID',\n",
       "       'SNAPUnit_Rel', 'TaxUnit_ID', 'TaxUnit_Rel', 'TaxUnit_FILER',\n",
       "       'TaxUnit_FILESTAT', 'TaxUnit_FILETYPE', 'NYCgov_REL', 'NYCgov_SFN',\n",
       "       'NYCgov_SFR', 'FamType_PU', 'HousingStatus', 'Ethnicity',\n",
       "       'TotalWorkHrs_PU', 'EducAttain', 'CitizenStatus', 'AgeCateg',\n",
       "       'FTPTWork', 'PreTaxIncome_PU', 'WAGP_adj', 'INTP_adj', 'SEMP_adj',\n",
       "       'SSP_adj', 'SSIP_adj', 'PA_adj', 'RETP_adj', 'OI_adj', 'MRGP_adj',\n",
       "       'RNTP_adj', 'NYCgov_Housing', 'NYCgov_Childcare', 'NYCgov_Commuting',\n",
       "       'NYCgov_MOOP', 'NYCgov_MedSpending', 'NYCgov_MedPremiums',\n",
       "       'NYCgov_HEAP', 'NYCgov_WIC', 'NYCgov_SNAP', 'NYCgov_SchoolLunch',\n",
       "       'NYCgov_SchoolBreakfast', 'NYCgov_Nutrition', 'NYCgov_FICAtax',\n",
       "       'NYCgov_IncomeTax', 'NYCgov_Income', 'NYCgov_EITC', 'Off_Threshold',\n",
       "       'Off_Pov_Stat', 'NYCgov_Threshold', 'NYCgov_Pov_Stat',\n",
       "       'NYCgov_PovGapIndex', 'NYCgov_PovGap'],\n",
       "      dtype='object')"
      ]
     },
     "execution_count": 13,
     "metadata": {},
     "output_type": "execute_result"
    }
   ],
   "source": [
    "data.columns"
   ]
  },
  {
   "cell_type": "code",
   "execution_count": 307,
   "metadata": {},
   "outputs": [],
   "source": [
    "chosen_cols8 = ['ENG', 'AGEP', 'SEX', 'ESR', 'Ethnicity', 'Boro', \\\n",
    "                'EducAttain', 'NYCgov_Housing']"
   ]
  },
  {
   "cell_type": "code",
   "execution_count": 14,
   "metadata": {},
   "outputs": [],
   "source": [
    "chosen_cols9 = ['ENG', 'AGEP', 'SEX', 'ESR', 'Ethnicity', 'Boro', \n",
    "                'EducAttain', 'NYCgov_Housing', 'WAGP_adj', 'INTP_adj', 'SEMP_adj',\n",
    "                'SSP_adj', 'SSIP_adj', 'PA_adj', 'RETP_adj', 'OI_adj', 'MRGP_adj',\n",
    "                'RNTP_adj']"
   ]
  },
  {
   "cell_type": "code",
   "execution_count": 15,
   "metadata": {},
   "outputs": [
    {
     "name": "stdout",
     "output_type": "stream",
     "text": [
      "28 Index(['ENG', 'AGEP', 'EducAttain', 'NYCgov_Housing', 'WAGP_adj', 'INTP_adj',\n",
      "       'SEMP_adj', 'SSP_adj', 'SSIP_adj', 'PA_adj', 'RETP_adj', 'OI_adj',\n",
      "       'MRGP_adj', 'RNTP_adj', 'SEX_2', 'ESR_1.0', 'ESR_2.0', 'ESR_3.0',\n",
      "       'ESR_4.0', 'ESR_6.0', 'Ethnicity_2', 'Ethnicity_3', 'Ethnicity_4',\n",
      "       'Ethnicity_5', 'Boro_2', 'Boro_3', 'Boro_4', 'Boro_5'],\n",
      "      dtype='object')\n"
     ]
    }
   ],
   "source": [
    "X = pd.get_dummies(data[chosen_cols9], drop_first=True, dtype=float)\n",
    "print(len(X.columns), X.columns)"
   ]
  },
  {
   "cell_type": "code",
   "execution_count": 16,
   "metadata": {},
   "outputs": [
    {
     "name": "stdout",
     "output_type": "stream",
     "text": [
      "(68094, 28) (68094,)\n"
     ]
    }
   ],
   "source": [
    "feat = X\n",
    "target = data['NYCgov_Pov_Stat']\n",
    "print(feat.shape, target.shape)"
   ]
  },
  {
   "cell_type": "code",
   "execution_count": 17,
   "metadata": {},
   "outputs": [],
   "source": [
    "# Split the data into a training set and a test set\n",
    "X_train, X_test, y_train, y_test = train_test_split(feat, target, test_size=0.25, random_state=123)"
   ]
  },
  {
   "cell_type": "code",
   "execution_count": 18,
   "metadata": {},
   "outputs": [
    {
     "data": {
      "text/plain": [
       "AdaBoostClassifier(algorithm='SAMME.R', base_estimator=None,\n",
       "          learning_rate=1.0, n_estimators=50, random_state=None)"
      ]
     },
     "execution_count": 18,
     "metadata": {},
     "output_type": "execute_result"
    }
   ],
   "source": [
    "adaboost_clf = AdaBoostClassifier()\n",
    "gbt_clf = GradientBoostingClassifier()\n",
    "#Now, train each of the classifiers using the training data.\n",
    "adaboost_clf.fit(X_train, y_train)"
   ]
  },
  {
   "cell_type": "code",
   "execution_count": 19,
   "metadata": {},
   "outputs": [
    {
     "data": {
      "text/plain": [
       "GradientBoostingClassifier(criterion='friedman_mse', init=None,\n",
       "              learning_rate=0.1, loss='deviance', max_depth=3,\n",
       "              max_features=None, max_leaf_nodes=None,\n",
       "              min_impurity_decrease=0.0, min_impurity_split=None,\n",
       "              min_samples_leaf=1, min_samples_split=2,\n",
       "              min_weight_fraction_leaf=0.0, n_estimators=100,\n",
       "              presort='auto', random_state=None, subsample=1.0, verbose=0,\n",
       "              warm_start=False)"
      ]
     },
     "execution_count": 19,
     "metadata": {},
     "output_type": "execute_result"
    }
   ],
   "source": [
    "gbt_clf.fit(X_train, y_train)"
   ]
  },
  {
   "cell_type": "code",
   "execution_count": 20,
   "metadata": {},
   "outputs": [],
   "source": [
    "adaboost_train_preds = adaboost_clf.predict(X_train)\n",
    "adaboost_test_preds = adaboost_clf.predict(X_test)\n",
    "gbt_clf_train_preds = gbt_clf.predict(X_train)\n",
    "gbt_clf_test_preds = gbt_clf.predict(X_test)"
   ]
  },
  {
   "cell_type": "code",
   "execution_count": 21,
   "metadata": {},
   "outputs": [
    {
     "name": "stdout",
     "output_type": "stream",
     "text": [
      "Training Metrics\n",
      "Model: AdaBoost\n",
      "Accuracy: 0.8327002153906403\n",
      "F1-Score: 0.9043160794678254\n",
      "\n",
      "Model: Gradient Boosted Trees\n",
      "Accuracy: 0.8370276091638927\n",
      "F1-Score: 0.9075704909658289\n",
      "\n",
      "Testing Metrics\n",
      "Model: AdaBoost\n",
      "Accuracy: 0.8365836466165414\n",
      "F1-Score: 0.9070373588184188\n",
      "\n",
      "Model: Gradient Boosted Trees\n",
      "Accuracy: 0.8404017857142857\n",
      "F1-Score: 0.9097911617251568\n"
     ]
    }
   ],
   "source": [
    "def display_acc_and_f1_score(true, preds, model_name):\n",
    "    acc = accuracy_score(true, preds)\n",
    "    f1 = f1_score(true, preds)\n",
    "    print(\"Model: {}\".format(model_name))\n",
    "    print(\"Accuracy: {}\".format(acc))\n",
    "    print(\"F1-Score: {}\".format(f1))\n",
    "    \n",
    "print(\"Training Metrics\")\n",
    "display_acc_and_f1_score(y_train, adaboost_train_preds, model_name='AdaBoost')\n",
    "print(\"\")\n",
    "display_acc_and_f1_score(y_train, gbt_clf_train_preds, model_name='Gradient Boosted Trees')\n",
    "print(\"\")\n",
    "print(\"Testing Metrics\")\n",
    "display_acc_and_f1_score(y_test, adaboost_test_preds, model_name='AdaBoost')\n",
    "print(\"\")\n",
    "display_acc_and_f1_score(y_test, gbt_clf_test_preds, model_name='Gradient Boosted Trees')"
   ]
  },
  {
   "cell_type": "code",
   "execution_count": 22,
   "metadata": {},
   "outputs": [
    {
     "data": {
      "text/plain": [
       "array([[  670,  2288],\n",
       "       [  494, 13572]])"
      ]
     },
     "execution_count": 22,
     "metadata": {},
     "output_type": "execute_result"
    }
   ],
   "source": [
    "# confusion matrix for Adaboost\n",
    "adaboost_confusion_matrix = confusion_matrix(y_test, adaboost_test_preds)\n",
    "adaboost_confusion_matrix"
   ]
  },
  {
   "cell_type": "code",
   "execution_count": 23,
   "metadata": {},
   "outputs": [
    {
     "data": {
      "text/plain": [
       "array([[  606,  2352],\n",
       "       [  365, 13701]])"
      ]
     },
     "execution_count": 23,
     "metadata": {},
     "output_type": "execute_result"
    }
   ],
   "source": [
    "# confusion matrix for GBboost\n",
    "gbt_confusion_matrix = confusion_matrix(y_test, gbt_clf_test_preds)\n",
    "gbt_confusion_matrix"
   ]
  },
  {
   "cell_type": "code",
   "execution_count": 24,
   "metadata": {},
   "outputs": [
    {
     "name": "stdout",
     "output_type": "stream",
     "text": [
      "             precision    recall  f1-score   support\n",
      "\n",
      "          0       0.58      0.23      0.33      2958\n",
      "          1       0.86      0.96      0.91     14066\n",
      "\n",
      "avg / total       0.81      0.84      0.81     17024\n",
      "\n"
     ]
    }
   ],
   "source": [
    "# classification report for Adaboost\n",
    "adaboost_classification_report = classification_report(y_test, adaboost_test_preds)\n",
    "print(adaboost_classification_report)"
   ]
  },
  {
   "cell_type": "code",
   "execution_count": 25,
   "metadata": {},
   "outputs": [
    {
     "name": "stdout",
     "output_type": "stream",
     "text": [
      "             precision    recall  f1-score   support\n",
      "\n",
      "          0       0.62      0.20      0.31      2958\n",
      "          1       0.85      0.97      0.91     14066\n",
      "\n",
      "avg / total       0.81      0.84      0.81     17024\n",
      "\n"
     ]
    }
   ],
   "source": [
    "# classification report for GBboost\n",
    "gbt_classification_report = classification_report(y_test, gbt_clf_test_preds)\n",
    "print(gbt_classification_report)"
   ]
  },
  {
   "cell_type": "code",
   "execution_count": 27,
   "metadata": {},
   "outputs": [],
   "source": [
    "scaled_features = StandardScaler().fit_transform(data[chosen_cols9])"
   ]
  },
  {
   "cell_type": "code",
   "execution_count": 28,
   "metadata": {},
   "outputs": [
    {
     "name": "stdout",
     "output_type": "stream",
     "text": [
      "Mean Adaboost Cross-Val Score (k=5):\n",
      "0.831394848481865\n"
     ]
    }
   ],
   "source": [
    "print('Mean Adaboost Cross-Val Score (k=5):')\n",
    "print(cross_val_score(adaboost_clf, scaled_features, target, cv=5).mean())"
   ]
  },
  {
   "cell_type": "code",
   "execution_count": 29,
   "metadata": {},
   "outputs": [
    {
     "name": "stdout",
     "output_type": "stream",
     "text": [
      "Mean GBT Cross-Val Score (k=5):\n",
      "0.8343760133730218\n"
     ]
    }
   ],
   "source": [
    "print('Mean GBT Cross-Val Score (k=5):')\n",
    "print(cross_val_score(gbt_clf, scaled_features, target, cv=5).mean())\n",
    "# Expected Output: 0.7591715474068416"
   ]
  },
  {
   "cell_type": "code",
   "execution_count": null,
   "metadata": {},
   "outputs": [],
   "source": [
    "param_grid = {\"base_estimator__criterion\" : [\"gini\", \"entropy\"],\n",
    "              \"base_estimator__splitter\" :   [\"best\", \"random\"],\n",
    "              \"n_estimators\": [1, 2]\n",
    "             }\n",
    "\n",
    "# run grid search\n",
    "grid_search_ABC = tqdm(GridSearchCV(adaboost_clf, param_grid=param_grid, scoring = 'roc_auc'))"
   ]
  },
  {
   "cell_type": "code",
   "execution_count": null,
   "metadata": {},
   "outputs": [],
   "source": []
  },
  {
   "cell_type": "code",
   "execution_count": null,
   "metadata": {},
   "outputs": [],
   "source": []
  },
  {
   "cell_type": "code",
   "execution_count": null,
   "metadata": {},
   "outputs": [],
   "source": []
  },
  {
   "cell_type": "code",
   "execution_count": null,
   "metadata": {},
   "outputs": [],
   "source": []
  },
  {
   "cell_type": "code",
   "execution_count": null,
   "metadata": {},
   "outputs": [],
   "source": []
  },
  {
   "cell_type": "code",
   "execution_count": null,
   "metadata": {},
   "outputs": [],
   "source": []
  },
  {
   "cell_type": "code",
   "execution_count": 273,
   "metadata": {},
   "outputs": [
    {
     "data": {
      "text/plain": [
       "DecisionTreeClassifier(class_weight=None, criterion='gini', max_depth=None,\n",
       "            max_features=None, max_leaf_nodes=None,\n",
       "            min_impurity_decrease=0.0, min_impurity_split=None,\n",
       "            min_samples_leaf=1, min_samples_split=2,\n",
       "            min_weight_fraction_leaf=0.0, presort=False, random_state=None,\n",
       "            splitter='best')"
      ]
     },
     "execution_count": 273,
     "metadata": {},
     "output_type": "execute_result"
    }
   ],
   "source": [
    "tree_clf = DecisionTreeClassifier(criterion = \"gini\") # max_depth = 5\n",
    "tree_clf.fit(X_train, y_train)"
   ]
  },
  {
   "cell_type": "code",
   "execution_count": 274,
   "metadata": {},
   "outputs": [
    {
     "data": {
      "image/png": "[encoded data removed]",
      "text/plain": [
       "<Figure size 576x576 with 1 Axes>"
      ]
     },
     "metadata": {
      "needs_background": "light"
     },
     "output_type": "display_data"
    }
   ],
   "source": [
    "def plot_feature_importances(model):\n",
    "    n_features = X_train.shape[1]\n",
    "    plt.figure(figsize=(8,8))\n",
    "    plt.barh(range(n_features), model.feature_importances_, align='center') \n",
    "    plt.yticks(np.arange(n_features), X_train.columns.values) \n",
    "    plt.xlabel(\"Feature importance\")\n",
    "    plt.ylabel(\"Feature\")\n",
    "\n",
    "plot_feature_importances(tree_clf)"
   ]
  },
  {
   "cell_type": "code",
   "execution_count": 276,
   "metadata": {},
   "outputs": [
    {
     "name": "stdout",
     "output_type": "stream",
     "text": [
      "[[ 1874  4077]\n",
      " [ 4436 23660]]\n",
      "             precision    recall  f1-score   support\n",
      "\n",
      "          0       0.30      0.31      0.31      5951\n",
      "          1       0.85      0.84      0.85     28096\n",
      "\n",
      "avg / total       0.76      0.75      0.75     34047\n",
      "\n"
     ]
    }
   ],
   "source": [
    "#model performance\n",
    "pred = tree_clf.predict(X_test)\n",
    "print(confusion_matrix(y_test, pred))\n",
    "print(classification_report(y_test, pred))"
   ]
  },
  {
   "cell_type": "code",
   "execution_count": 278,
   "metadata": {},
   "outputs": [
    {
     "name": "stdout",
     "output_type": "stream",
     "text": [
      "Testing Accuracy for Decision Tree Classifier: 75.0%\n"
     ]
    }
   ],
   "source": [
    "print(\"Testing Accuracy for Decision Tree Classifier: {:.4}%\".format(accuracy_score(y_test, pred) * 100))"
   ]
  },
  {
   "cell_type": "code",
   "execution_count": 283,
   "metadata": {},
   "outputs": [
    {
     "data": {
      "text/plain": [
       "BaggingClassifier(base_estimator=DecisionTreeClassifier(class_weight=None, criterion='gini', max_depth=5,\n",
       "            max_features=None, max_leaf_nodes=None,\n",
       "            min_impurity_decrease=0.0, min_impurity_split=None,\n",
       "            min_samples_leaf=1, min_samples_split=2,\n",
       "            min_weight_fraction_leaf=0.0, presort=False, random_state=None,\n",
       "            splitter='best'),\n",
       "         bootstrap=True, bootstrap_features=False, max_features=1.0,\n",
       "         max_samples=1.0, n_estimators=20, n_jobs=1, oob_score=False,\n",
       "         random_state=None, verbose=0, warm_start=False)"
      ]
     },
     "execution_count": 283,
     "metadata": {},
     "output_type": "execute_result"
    }
   ],
   "source": [
    "bagged_tree =  BaggingClassifier(DecisionTreeClassifier(criterion='gini', max_depth=5), n_estimators=20)\n",
    "bagged_tree.fit(X_train, y_train)"
   ]
  },
  {
   "cell_type": "code",
   "execution_count": 285,
   "metadata": {},
   "outputs": [
    {
     "data": {
      "text/plain": [
       "0.8191323758334068"
      ]
     },
     "execution_count": 285,
     "metadata": {},
     "output_type": "execute_result"
    }
   ],
   "source": [
    "#check accuracy\n",
    "bagged_tree.score(X_train, y_train)"
   ]
  },
  {
   "cell_type": "code",
   "execution_count": 287,
   "metadata": {},
   "outputs": [
    {
     "data": {
      "text/plain": [
       "RandomForestClassifier(bootstrap=True, class_weight=None, criterion='gini',\n",
       "            max_depth=5, max_features='auto', max_leaf_nodes=None,\n",
       "            min_impurity_decrease=0.0, min_impurity_split=None,\n",
       "            min_samples_leaf=1, min_samples_split=2,\n",
       "            min_weight_fraction_leaf=0.0, n_estimators=100, n_jobs=1,\n",
       "            oob_score=False, random_state=None, verbose=0,\n",
       "            warm_start=False)"
      ]
     },
     "execution_count": 287,
     "metadata": {},
     "output_type": "execute_result"
    }
   ],
   "source": [
    "forest = RandomForestClassifier(n_estimators=100, max_depth= 5)\n",
    "forest.fit(X_train, y_train)"
   ]
  },
  {
   "cell_type": "code",
   "execution_count": 289,
   "metadata": {},
   "outputs": [
    {
     "data": {
      "text/plain": [
       "0.8191323758334068"
      ]
     },
     "execution_count": 289,
     "metadata": {},
     "output_type": "execute_result"
    }
   ],
   "source": [
    "#Now, let's check the training and testing accuracy of the model using its .score() method.\n",
    "forest.score(X_train, y_train)"
   ]
  },
  {
   "cell_type": "code",
   "execution_count": 290,
   "metadata": {},
   "outputs": [
    {
     "data": {
      "text/plain": [
       "0.8252122066555057"
      ]
     },
     "execution_count": 290,
     "metadata": {},
     "output_type": "execute_result"
    }
   ],
   "source": [
    "forest.score(X_test, y_test)"
   ]
  },
  {
   "cell_type": "code",
   "execution_count": 291,
   "metadata": {},
   "outputs": [
    {
     "data": {
      "image/png": "[encoded data removed]",
      "text/plain": [
       "<Figure size 576x576 with 1 Axes>"
      ]
     },
     "metadata": {
      "needs_background": "light"
     },
     "output_type": "display_data"
    }
   ],
   "source": [
    "# checking feature importances\n",
    "plot_feature_importances(forest)"
   ]
  },
  {
   "cell_type": "code",
   "execution_count": 292,
   "metadata": {},
   "outputs": [
    {
     "data": {
      "text/plain": [
       "RandomForestClassifier(bootstrap=True, class_weight=None, criterion='gini',\n",
       "            max_depth=2, max_features=10, max_leaf_nodes=None,\n",
       "            min_impurity_decrease=0.0, min_impurity_split=None,\n",
       "            min_samples_leaf=1, min_samples_split=2,\n",
       "            min_weight_fraction_leaf=0.0, n_estimators=5, n_jobs=1,\n",
       "            oob_score=False, random_state=None, verbose=0,\n",
       "            warm_start=False)"
      ]
     },
     "execution_count": 292,
     "metadata": {},
     "output_type": "execute_result"
    }
   ],
   "source": [
    "forest_2 = RandomForestClassifier(n_estimators = 5, max_features= 10, max_depth= 2)\n",
    "forest_2.fit(X_train, y_train)"
   ]
  },
  {
   "cell_type": "code",
   "execution_count": null,
   "metadata": {},
   "outputs": [],
   "source": []
  },
  {
   "cell_type": "code",
   "execution_count": null,
   "metadata": {},
   "outputs": [],
   "source": []
  },
  {
   "cell_type": "code",
   "execution_count": null,
   "metadata": {},
   "outputs": [],
   "source": []
  },
  {
   "cell_type": "code",
   "execution_count": null,
   "metadata": {},
   "outputs": [],
   "source": []
  },
  {
   "cell_type": "code",
   "execution_count": 220,
   "metadata": {},
   "outputs": [
    {
     "name": "stdout",
     "output_type": "stream",
     "text": [
      "1    55985\n",
      "0    12109\n",
      "Name: NYCgov_Pov_Stat, dtype: int64\n",
      "1    28036\n",
      "0    28036\n",
      "dtype: int64\n"
     ]
    }
   ],
   "source": [
    "# Split the data into a training set and a test set\n",
    "X_train, X_test, y_train, y_test = train_test_split(feat, target, test_size=0.5, random_state=0)\n",
    "print(target.value_counts()) #Previous original class distribution\n",
    "smote = SMOTE()\n",
    "X_train_resampled, y_train_resampled = smote.fit_sample(X_train, y_train) # fitting ONLY on training data\n",
    "print(pd.Series(y_train_resampled).value_counts()) #Preview synthetic sample class distribution"
   ]
  },
  {
   "cell_type": "code",
   "execution_count": 221,
   "metadata": {},
   "outputs": [
    {
     "data": {
      "text/plain": [
       "DecisionTreeClassifier(class_weight=None, criterion='entropy', max_depth=None,\n",
       "            max_features=None, max_leaf_nodes=None,\n",
       "            min_impurity_decrease=0.0, min_impurity_split=None,\n",
       "            min_samples_leaf=1, min_samples_split=2,\n",
       "            min_weight_fraction_leaf=0.0, presort=False, random_state=None,\n",
       "            splitter='best')"
      ]
     },
     "execution_count": 221,
     "metadata": {},
     "output_type": "execute_result"
    }
   ],
   "source": [
    "# Train the classifier using training data \n",
    "dtr = DecisionTreeClassifier(criterion='entropy')\n",
    "dtr.fit(X_train_resampled, y_train_resampled)"
   ]
  },
  {
   "cell_type": "code",
   "execution_count": 222,
   "metadata": {},
   "outputs": [
    {
     "data": {
      "text/plain": [
       "0.8439904086181619"
      ]
     },
     "execution_count": 222,
     "metadata": {},
     "output_type": "execute_result"
    }
   ],
   "source": [
    "# Make predictions using test set \n",
    "y_pred = dtr.predict(X_test)\n",
    "# Check the AUC of predictions\n",
    "false_positive_rate, true_positive_rate, thresholds = roc_curve(y_test, y_pred)\n",
    "roc_auc = auc(false_positive_rate, true_positive_rate)\n",
    "roc_auc"
   ]
  },
  {
   "cell_type": "code",
   "execution_count": 223,
   "metadata": {},
   "outputs": [
    {
     "data": {
      "image/png": "[encoded data removed]",
      "text/plain": [
       "<Figure size 864x432 with 1 Axes>"
      ]
     },
     "metadata": {
      "needs_background": "light"
     },
     "output_type": "display_data"
    }
   ],
   "source": [
    "'''Maximum Tree Depth: Let's first check for the best depth parameter for our decision tree.\n",
    "1 Create an array for for depth values ranging from 1 - 32.\n",
    "2 In a loop, train the classifier for each depth value (32 runs)\n",
    "3 Calculate the training and test AUC for each run\n",
    "4 Plot a graph to show under/over fitting and optimal value\n",
    "5 Interpret the results\n",
    "'''\n",
    "# Identify the optimal tree depth for given data\n",
    "max_depths = np.linspace(1, 32, 32, endpoint=True)\n",
    "train_results = []\n",
    "test_results = []\n",
    "for max_depth in max_depths:\n",
    "   dt = DecisionTreeClassifier(criterion='entropy', max_depth=max_depth)\n",
    "   dt.fit(X_train_resampled, y_train_resampled)\n",
    "   train_pred = dt.predict(X_train_resampled)\n",
    "   false_positive_rate, true_positive_rate, thresholds = roc_curve(y_train_resampled, train_pred)\n",
    "   roc_auc = auc(false_positive_rate, true_positive_rate)\n",
    "   # Add auc score to previous train results\n",
    "   train_results.append(roc_auc)\n",
    "   y_pred = dt.predict(X_test)\n",
    "   false_positive_rate, true_positive_rate, thresholds = roc_curve(y_test, y_pred)\n",
    "   roc_auc = auc(false_positive_rate, true_positive_rate)\n",
    "   # Add auc score to previous test results\n",
    "   test_results.append(roc_auc)\n",
    "plt.figure(figsize=(12,6))\n",
    "plt.plot(max_depths, train_results, 'b', label='Train AUC')\n",
    "plt.plot(max_depths, test_results, 'r', label='Test AUC')\n",
    "plt.ylabel('AUC score')\n",
    "plt.xlabel('Tree depth')\n",
    "plt.legend()\n",
    "plt.show()"
   ]
  },
  {
   "cell_type": "code",
   "execution_count": 228,
   "metadata": {},
   "outputs": [
    {
     "data": {
      "image/png": "[encoded data removed]",
      "text/plain": [
       "<Figure size 864x432 with 1 Axes>"
      ]
     },
     "metadata": {
      "needs_background": "light"
     },
     "output_type": "display_data"
    }
   ],
   "source": [
    "'''\n",
    "Minimum Sample Split: Now check for the best min_samples_splits parameter for our decision tree.\n",
    "Create an array for for min_sample_splits values ranging from 0.1 - 1 with an increment of 0.1\n",
    "In a loop, train the classifier for each min_samples_splits value (10 runs)\n",
    "Calculate the training and test AUC for each run\n",
    "Plot a graph to show under/over fitting and optimal value\n",
    "Interpret the results'''\n",
    "# Identify the optimal min-samples-split for given data\n",
    "min_samples_splits = np.linspace(0.1, 1.0, 10, endpoint=True)\n",
    "train_results = []\n",
    "test_results = []\n",
    "for min_samples_split in min_samples_splits:\n",
    "   dt = DecisionTreeClassifier(criterion='entropy', min_samples_split=min_samples_split)\n",
    "   dt.fit(X_train_resampled, y_train_resampled)\n",
    "   train_pred = dt.predict(X_train_resampled)\n",
    "   false_positive_rate, true_positive_rate, thresholds =    roc_curve(y_train_resampled, train_pred)\n",
    "   roc_auc = auc(false_positive_rate, true_positive_rate)\n",
    "   train_results.append(roc_auc)\n",
    "   y_pred = dt.predict(X_test)\n",
    "   false_positive_rate, true_positive_rate, thresholds = roc_curve(y_test, y_pred)\n",
    "   roc_auc = auc(false_positive_rate, true_positive_rate)\n",
    "   test_results.append(roc_auc)\n",
    "plt.figure(figsize=(12,6))\n",
    "plt.plot(min_samples_splits, train_results, 'b', label='Train AUC')\n",
    "plt.plot(min_samples_splits, test_results, 'r', label='Test AUC')\n",
    "plt.xlabel('Min. Sample splits')\n",
    "plt.legend()\n",
    "plt.show()"
   ]
  },
  {
   "cell_type": "code",
   "execution_count": 229,
   "metadata": {},
   "outputs": [
    {
     "data": {
      "image/png": "[encoded data removed]",
      "text/plain": [
       "<Figure size 864x432 with 1 Axes>"
      ]
     },
     "metadata": {
      "needs_background": "light"
     },
     "output_type": "display_data"
    }
   ],
   "source": [
    "'''Minimum Sample Leafs: Now check for the best min_samples_leafs parameter value for our decision tree.\n",
    "Create an array for for min_samples_leafs values ranging from 0.1 - 0.5 with an increment of 0.1\n",
    "In a loop, train the classifier for each min_samples_leafs value (5 runs)\n",
    "Calculate the training and test AUC for each run\n",
    "Plot a graph to show under/over fitting and optimal value\n",
    "Interpret the results'''\n",
    "# Calculate the optimal value for minimum sample leafs\n",
    "\n",
    "min_samples_leafs = np.linspace(0.1, 0.5, 5, endpoint=True)\n",
    "train_results = []\n",
    "test_results = []\n",
    "for min_samples_leaf in min_samples_leafs:\n",
    "   dt = DecisionTreeClassifier(criterion='entropy', min_samples_leaf=min_samples_leaf)\n",
    "   dt.fit(X_train_resampled, y_train_resampled)\n",
    "   train_pred = dt.predict(X_train_resampled)\n",
    "   false_positive_rate, true_positive_rate, thresholds = roc_curve(y_train_resampled, train_pred)\n",
    "   roc_auc = auc(false_positive_rate, true_positive_rate)\n",
    "   train_results.append(roc_auc)\n",
    "   y_pred = dt.predict(X_test)\n",
    "   false_positive_rate, true_positive_rate, thresholds = roc_curve(y_test, y_pred)\n",
    "   roc_auc = auc(false_positive_rate, true_positive_rate)\n",
    "   test_results.append(roc_auc)\n",
    "    \n",
    "\n",
    "plt.figure(figsize=(12,6))    \n",
    "plt.plot(min_samples_leafs, train_results, 'b', label='Train AUC')\n",
    "plt.plot(min_samples_leafs, test_results, 'r', label='Test AUC')\n",
    "plt.ylabel('AUC score')\n",
    "plt.xlabel('Min. Sample Leafs')\n",
    "plt.legend()\n",
    "plt.show()"
   ]
  },
  {
   "cell_type": "code",
   "execution_count": 233,
   "metadata": {},
   "outputs": [
    {
     "data": {
      "image/png": "[encoded data removed]",
      "text/plain": [
       "<Figure size 864x432 with 1 Axes>"
      ]
     },
     "metadata": {
      "needs_background": "light"
     },
     "output_type": "display_data"
    }
   ],
   "source": [
    "'''Maximum Features: Now check for the best max_features parameter value for our decision tree.\n",
    "Create an array for for max_features values ranging from 1 - 12 (1 features vs all)\n",
    "In a loop, train the classifier for each max_features value (12 runs)\n",
    "Calculate the training and test AUC for each run\n",
    "Plot a graph to show under/over fitting and optimal value\n",
    "Interpret the results'''\n",
    "# Find the best value for optimal maximum feature size\n",
    "max_features = list(range(1,X_train_resampled.shape[1]))\n",
    "train_results = []\n",
    "test_results = []\n",
    "for max_feature in max_features:\n",
    "   dt = DecisionTreeClassifier(criterion='entropy', max_features=max_feature)\n",
    "   dt.fit(X_train_resampled, y_train_resampled)\n",
    "   train_pred = dt.predict(X_train_resampled)\n",
    "   false_positive_rate, true_positive_rate, thresholds = roc_curve(y_train_resampled, train_pred)\n",
    "   roc_auc = auc(false_positive_rate, true_positive_rate)\n",
    "   train_results.append(roc_auc)\n",
    "   y_pred = dt.predict(X_test)\n",
    "   false_positive_rate, true_positive_rate, thresholds = roc_curve(y_test, y_pred)\n",
    "   roc_auc = auc(false_positive_rate, true_positive_rate)\n",
    "   test_results.append(roc_auc)\n",
    "\n",
    "plt.figure(figsize=(12,6))\n",
    "plt.plot(max_features, train_results, 'b', label='Train AUC')\n",
    "plt.plot(max_features, test_results, 'r', label='Test AUC')\n",
    "\n",
    "plt.ylabel('AUC score')\n",
    "plt.xlabel('max features')\n",
    "plt.legend()\n",
    "plt.show() "
   ]
  },
  {
   "cell_type": "code",
   "execution_count": 237,
   "metadata": {},
   "outputs": [
    {
     "data": {
      "text/plain": [
       "0.845430517030968"
      ]
     },
     "execution_count": 237,
     "metadata": {},
     "output_type": "execute_result"
    }
   ],
   "source": [
    "'''Re-train the classifier with chosen values:\n",
    "So now we shall use the best values from each training phase above and \n",
    "feed it back to our classifier and see if have any improvement in predictive performance.\n",
    "Train the classifier with optimal values identified\n",
    "compare the AUC with vanilla DT AUC\n",
    "Interpret the results of comparison'''\n",
    "# train a classifier with optimal values identified above\n",
    "dt = DecisionTreeClassifier(criterion='entropy',\n",
    "                           max_features=9,\n",
    "                           max_depth=2,\n",
    "                           min_samples_split=0.4,\n",
    "                           min_samples_leaf=0.25)\n",
    "dt.fit(X_train_resampled, y_train_resampled)\n",
    "false_positive_rate, true_positive_rate, thresholds = roc_curve(y_test, y_pred)\n",
    "roc_auc = auc(false_positive_rate, true_positive_rate)\n",
    "roc_auc"
   ]
  },
  {
   "cell_type": "code",
   "execution_count": null,
   "metadata": {},
   "outputs": [],
   "source": []
  },
  {
   "cell_type": "code",
   "execution_count": null,
   "metadata": {},
   "outputs": [],
   "source": [
    "# You observations here \n",
    "# we moved from AUC 0.69 in the vanilla classifier to 0.73 some tuning. \n",
    "# Due to randomness, results may slightly differ, there is some improvement in most cases. \n",
    "# With more complicated datasets, we might see an even bigger improvement in AUC/accuracy of the classifier. "
   ]
  },
  {
   "cell_type": "code",
   "execution_count": null,
   "metadata": {},
   "outputs": [],
   "source": []
  },
  {
   "cell_type": "code",
   "execution_count": null,
   "metadata": {},
   "outputs": [],
   "source": []
  },
  {
   "cell_type": "code",
   "execution_count": 42,
   "metadata": {},
   "outputs": [],
   "source": [
    "chosen_catcols = ['CIT','SEX','ESR','DIS','Ethnicity','Boro']"
   ]
  },
  {
   "cell_type": "code",
   "execution_count": 43,
   "metadata": {},
   "outputs": [],
   "source": [
    "data[chosen_catcols] = data[chosen_catcols].astype(np.str)"
   ]
  },
  {
   "cell_type": "code",
   "execution_count": 45,
   "metadata": {},
   "outputs": [
    {
     "data": {
      "text/plain": [
       "14"
      ]
     },
     "execution_count": 45,
     "metadata": {},
     "output_type": "execute_result"
    }
   ],
   "source": [
    "chosen_cols6 = ['TotalWorkHrs_PU', 'NYCgov_Income','NYCgov_Threshold','ENG', \\\n",
    "                'AGEP','CIT', 'SEX', 'ESR', 'DIS', 'Ethnicity', 'Boro', \n",
    "                'EducAttain', 'NYCgov_Housing', 'NYCgov_PovGapIndex']\n",
    "len(chosen_cols6)"
   ]
  },
  {
   "cell_type": "code",
   "execution_count": 51,
   "metadata": {},
   "outputs": [
    {
     "data": {
      "text/plain": [
       "11"
      ]
     },
     "execution_count": 51,
     "metadata": {},
     "output_type": "execute_result"
    }
   ],
   "source": [
    "chosen_cols5 = ['TotalWorkHrs_PU', 'ENG','AGEP','CIT', 'SEX', 'ESR', 'DIS', 'Ethnicity', 'Boro', \n",
    "                'EducAttain', 'NYCgov_Housing']\n",
    "len(chosen_cols5)"
   ]
  },
  {
   "cell_type": "code",
   "execution_count": 52,
   "metadata": {
    "scrolled": false
   },
   "outputs": [
    {
     "data": {
      "image/png": "[encoded data removed]",
      "text/plain": [
       "<Figure size 792x648 with 2 Axes>"
      ]
     },
     "metadata": {},
     "output_type": "display_data"
    }
   ],
   "source": [
    "CorrMtx(data[chosen_cols5].corr(), dropDuplicates = True)"
   ]
  },
  {
   "cell_type": "code",
   "execution_count": 53,
   "metadata": {},
   "outputs": [
    {
     "data": {
      "text/html": [
       "<div>\n",
       "<style scoped>\n",
       "    .dataframe tbody tr th:only-of-type {\n",
       "        vertical-align: middle;\n",
       "    }\n",
       "\n",
       "    .dataframe tbody tr th {\n",
       "        vertical-align: top;\n",
       "    }\n",
       "\n",
       "    .dataframe thead th {\n",
       "        text-align: right;\n",
       "    }\n",
       "</style>\n",
       "<table border=\"1\" class=\"dataframe\">\n",
       "  <thead>\n",
       "    <tr style=\"text-align: right;\">\n",
       "      <th></th>\n",
       "      <th>TotalWorkHrs_PU</th>\n",
       "      <th>ENG</th>\n",
       "      <th>AGEP</th>\n",
       "      <th>EducAttain</th>\n",
       "      <th>NYCgov_Housing</th>\n",
       "    </tr>\n",
       "  </thead>\n",
       "  <tbody>\n",
       "    <tr>\n",
       "      <th>TotalWorkHrs_PU</th>\n",
       "      <td>1.000000</td>\n",
       "      <td>0.016304</td>\n",
       "      <td>0.291417</td>\n",
       "      <td>-0.062570</td>\n",
       "      <td>0.074278</td>\n",
       "    </tr>\n",
       "    <tr>\n",
       "      <th>ENG</th>\n",
       "      <td>0.016304</td>\n",
       "      <td>1.000000</td>\n",
       "      <td>0.201106</td>\n",
       "      <td>-0.144823</td>\n",
       "      <td>0.075495</td>\n",
       "    </tr>\n",
       "    <tr>\n",
       "      <th>AGEP</th>\n",
       "      <td>0.291417</td>\n",
       "      <td>0.201106</td>\n",
       "      <td>1.000000</td>\n",
       "      <td>0.314695</td>\n",
       "      <td>-0.019116</td>\n",
       "    </tr>\n",
       "    <tr>\n",
       "      <th>EducAttain</th>\n",
       "      <td>-0.062570</td>\n",
       "      <td>-0.144823</td>\n",
       "      <td>0.314695</td>\n",
       "      <td>1.000000</td>\n",
       "      <td>-0.138275</td>\n",
       "    </tr>\n",
       "    <tr>\n",
       "      <th>NYCgov_Housing</th>\n",
       "      <td>0.074278</td>\n",
       "      <td>0.075495</td>\n",
       "      <td>-0.019116</td>\n",
       "      <td>-0.138275</td>\n",
       "      <td>1.000000</td>\n",
       "    </tr>\n",
       "  </tbody>\n",
       "</table>\n",
       "</div>"
      ],
      "text/plain": [
       "                 TotalWorkHrs_PU       ENG      AGEP  EducAttain  \\\n",
       "TotalWorkHrs_PU         1.000000  0.016304  0.291417   -0.062570   \n",
       "ENG                     0.016304  1.000000  0.201106   -0.144823   \n",
       "AGEP                    0.291417  0.201106  1.000000    0.314695   \n",
       "EducAttain             -0.062570 -0.144823  0.314695    1.000000   \n",
       "NYCgov_Housing          0.074278  0.075495 -0.019116   -0.138275   \n",
       "\n",
       "                 NYCgov_Housing  \n",
       "TotalWorkHrs_PU        0.074278  \n",
       "ENG                    0.075495  \n",
       "AGEP                  -0.019116  \n",
       "EducAttain            -0.138275  \n",
       "NYCgov_Housing         1.000000  "
      ]
     },
     "execution_count": 53,
     "metadata": {},
     "output_type": "execute_result"
    }
   ],
   "source": [
    "data[chosen_cols5].corr()"
   ]
  },
  {
   "cell_type": "code",
   "execution_count": 54,
   "metadata": {},
   "outputs": [],
   "source": [
    "# normalize\n",
    "data.loc[:, float_cols] = float_data.apply(lambda x: (x-x.min())/(x.max()-x.min()),axis=0)"
   ]
  },
  {
   "cell_type": "code",
   "execution_count": 55,
   "metadata": {},
   "outputs": [
    {
     "data": {
      "text/html": [
       "<div>\n",
       "<style scoped>\n",
       "    .dataframe tbody tr th:only-of-type {\n",
       "        vertical-align: middle;\n",
       "    }\n",
       "\n",
       "    .dataframe tbody tr th {\n",
       "        vertical-align: top;\n",
       "    }\n",
       "\n",
       "    .dataframe thead th {\n",
       "        text-align: right;\n",
       "    }\n",
       "</style>\n",
       "<table border=\"1\" class=\"dataframe\">\n",
       "  <thead>\n",
       "    <tr style=\"text-align: right;\">\n",
       "      <th></th>\n",
       "      <th>WAGP_adj</th>\n",
       "      <th>INTP_adj</th>\n",
       "      <th>SEMP_adj</th>\n",
       "      <th>SSP_adj</th>\n",
       "      <th>SSIP_adj</th>\n",
       "      <th>PA_adj</th>\n",
       "      <th>RETP_adj</th>\n",
       "      <th>OI_adj</th>\n",
       "      <th>MRGP_adj</th>\n",
       "      <th>RNTP_adj</th>\n",
       "      <th>...</th>\n",
       "      <th>NYCgov_MedPremiums</th>\n",
       "      <th>NYCgov_WIC</th>\n",
       "      <th>NYCgov_SNAP</th>\n",
       "      <th>NYCgov_SchoolLunch</th>\n",
       "      <th>NYCgov_SchoolBreakfast</th>\n",
       "      <th>NYCgov_Nutrition</th>\n",
       "      <th>NYCgov_FICAtax</th>\n",
       "      <th>NYCgov_IncomeTax</th>\n",
       "      <th>NYCgov_PovGap</th>\n",
       "      <th>NYCgov_PovGapIndex</th>\n",
       "    </tr>\n",
       "  </thead>\n",
       "  <tbody>\n",
       "    <tr>\n",
       "      <th>2787</th>\n",
       "      <td>0.000000</td>\n",
       "      <td>0.004237</td>\n",
       "      <td>0.014152</td>\n",
       "      <td>0.408</td>\n",
       "      <td>0.0</td>\n",
       "      <td>0.0</td>\n",
       "      <td>0.0</td>\n",
       "      <td>0.261538</td>\n",
       "      <td>0.000000</td>\n",
       "      <td>0.000000</td>\n",
       "      <td>...</td>\n",
       "      <td>0.128265</td>\n",
       "      <td>0.0</td>\n",
       "      <td>0.000000</td>\n",
       "      <td>0.0</td>\n",
       "      <td>0.0</td>\n",
       "      <td>0.000000</td>\n",
       "      <td>0.000000</td>\n",
       "      <td>0.021135</td>\n",
       "      <td>0.000000</td>\n",
       "      <td>0.000000</td>\n",
       "    </tr>\n",
       "    <tr>\n",
       "      <th>16996</th>\n",
       "      <td>0.141066</td>\n",
       "      <td>0.004237</td>\n",
       "      <td>0.014152</td>\n",
       "      <td>0.000</td>\n",
       "      <td>0.0</td>\n",
       "      <td>0.0</td>\n",
       "      <td>0.0</td>\n",
       "      <td>0.000000</td>\n",
       "      <td>0.396825</td>\n",
       "      <td>0.000000</td>\n",
       "      <td>...</td>\n",
       "      <td>0.234772</td>\n",
       "      <td>0.0</td>\n",
       "      <td>0.000000</td>\n",
       "      <td>0.0</td>\n",
       "      <td>0.0</td>\n",
       "      <td>0.000000</td>\n",
       "      <td>0.071792</td>\n",
       "      <td>0.041968</td>\n",
       "      <td>0.000000</td>\n",
       "      <td>0.000000</td>\n",
       "    </tr>\n",
       "    <tr>\n",
       "      <th>24698</th>\n",
       "      <td>0.000000</td>\n",
       "      <td>0.004237</td>\n",
       "      <td>0.134085</td>\n",
       "      <td>0.000</td>\n",
       "      <td>0.0</td>\n",
       "      <td>0.0</td>\n",
       "      <td>0.0</td>\n",
       "      <td>0.000000</td>\n",
       "      <td>0.460317</td>\n",
       "      <td>0.000000</td>\n",
       "      <td>...</td>\n",
       "      <td>0.170331</td>\n",
       "      <td>0.0</td>\n",
       "      <td>0.000000</td>\n",
       "      <td>0.0</td>\n",
       "      <td>0.0</td>\n",
       "      <td>0.000000</td>\n",
       "      <td>0.108823</td>\n",
       "      <td>0.047296</td>\n",
       "      <td>0.000000</td>\n",
       "      <td>0.000000</td>\n",
       "    </tr>\n",
       "    <tr>\n",
       "      <th>44484</th>\n",
       "      <td>0.031348</td>\n",
       "      <td>0.004298</td>\n",
       "      <td>0.038139</td>\n",
       "      <td>0.220</td>\n",
       "      <td>0.0</td>\n",
       "      <td>0.0</td>\n",
       "      <td>0.0</td>\n",
       "      <td>0.000000</td>\n",
       "      <td>0.000000</td>\n",
       "      <td>0.394737</td>\n",
       "      <td>...</td>\n",
       "      <td>0.025601</td>\n",
       "      <td>0.0</td>\n",
       "      <td>0.000000</td>\n",
       "      <td>0.0</td>\n",
       "      <td>0.0</td>\n",
       "      <td>0.000000</td>\n",
       "      <td>0.026060</td>\n",
       "      <td>0.023741</td>\n",
       "      <td>0.000000</td>\n",
       "      <td>0.000000</td>\n",
       "    </tr>\n",
       "    <tr>\n",
       "      <th>52872</th>\n",
       "      <td>0.064263</td>\n",
       "      <td>0.004237</td>\n",
       "      <td>0.014152</td>\n",
       "      <td>0.240</td>\n",
       "      <td>0.0</td>\n",
       "      <td>0.0</td>\n",
       "      <td>0.0</td>\n",
       "      <td>0.000000</td>\n",
       "      <td>0.000000</td>\n",
       "      <td>0.000000</td>\n",
       "      <td>...</td>\n",
       "      <td>0.127905</td>\n",
       "      <td>0.0</td>\n",
       "      <td>0.000000</td>\n",
       "      <td>0.0</td>\n",
       "      <td>0.0</td>\n",
       "      <td>0.000000</td>\n",
       "      <td>0.025158</td>\n",
       "      <td>0.028347</td>\n",
       "      <td>0.000000</td>\n",
       "      <td>0.000000</td>\n",
       "    </tr>\n",
       "    <tr>\n",
       "      <th>45801</th>\n",
       "      <td>0.125392</td>\n",
       "      <td>0.004237</td>\n",
       "      <td>0.014152</td>\n",
       "      <td>0.000</td>\n",
       "      <td>0.0</td>\n",
       "      <td>0.0</td>\n",
       "      <td>0.0</td>\n",
       "      <td>0.000000</td>\n",
       "      <td>0.000000</td>\n",
       "      <td>0.289474</td>\n",
       "      <td>...</td>\n",
       "      <td>0.009123</td>\n",
       "      <td>0.0</td>\n",
       "      <td>0.000000</td>\n",
       "      <td>0.0</td>\n",
       "      <td>0.0</td>\n",
       "      <td>0.000000</td>\n",
       "      <td>0.049089</td>\n",
       "      <td>0.041835</td>\n",
       "      <td>0.000000</td>\n",
       "      <td>0.000000</td>\n",
       "    </tr>\n",
       "    <tr>\n",
       "      <th>15057</th>\n",
       "      <td>0.000000</td>\n",
       "      <td>0.004237</td>\n",
       "      <td>0.014152</td>\n",
       "      <td>0.000</td>\n",
       "      <td>0.0</td>\n",
       "      <td>0.0</td>\n",
       "      <td>0.0</td>\n",
       "      <td>0.000000</td>\n",
       "      <td>0.000000</td>\n",
       "      <td>0.447368</td>\n",
       "      <td>...</td>\n",
       "      <td>0.122539</td>\n",
       "      <td>0.0</td>\n",
       "      <td>0.207361</td>\n",
       "      <td>0.0</td>\n",
       "      <td>0.0</td>\n",
       "      <td>0.183164</td>\n",
       "      <td>0.030940</td>\n",
       "      <td>0.016525</td>\n",
       "      <td>0.160323</td>\n",
       "      <td>0.275455</td>\n",
       "    </tr>\n",
       "    <tr>\n",
       "      <th>8632</th>\n",
       "      <td>0.000000</td>\n",
       "      <td>0.004237</td>\n",
       "      <td>0.014152</td>\n",
       "      <td>0.000</td>\n",
       "      <td>0.0</td>\n",
       "      <td>0.0</td>\n",
       "      <td>0.0</td>\n",
       "      <td>0.000000</td>\n",
       "      <td>0.634921</td>\n",
       "      <td>0.000000</td>\n",
       "      <td>...</td>\n",
       "      <td>0.326444</td>\n",
       "      <td>0.0</td>\n",
       "      <td>0.000000</td>\n",
       "      <td>0.0</td>\n",
       "      <td>0.0</td>\n",
       "      <td>0.000000</td>\n",
       "      <td>0.184082</td>\n",
       "      <td>0.115368</td>\n",
       "      <td>0.000000</td>\n",
       "      <td>0.000000</td>\n",
       "    </tr>\n",
       "    <tr>\n",
       "      <th>34126</th>\n",
       "      <td>0.188088</td>\n",
       "      <td>0.004237</td>\n",
       "      <td>0.014152</td>\n",
       "      <td>0.000</td>\n",
       "      <td>0.0</td>\n",
       "      <td>0.0</td>\n",
       "      <td>0.0</td>\n",
       "      <td>0.000000</td>\n",
       "      <td>0.000000</td>\n",
       "      <td>0.500000</td>\n",
       "      <td>...</td>\n",
       "      <td>0.013415</td>\n",
       "      <td>0.0</td>\n",
       "      <td>0.000000</td>\n",
       "      <td>0.0</td>\n",
       "      <td>0.0</td>\n",
       "      <td>0.000000</td>\n",
       "      <td>0.073633</td>\n",
       "      <td>0.057221</td>\n",
       "      <td>0.000000</td>\n",
       "      <td>0.000000</td>\n",
       "    </tr>\n",
       "    <tr>\n",
       "      <th>54901</th>\n",
       "      <td>0.070533</td>\n",
       "      <td>0.004237</td>\n",
       "      <td>0.014152</td>\n",
       "      <td>0.000</td>\n",
       "      <td>0.0</td>\n",
       "      <td>0.0</td>\n",
       "      <td>0.0</td>\n",
       "      <td>0.000000</td>\n",
       "      <td>0.222222</td>\n",
       "      <td>0.000000</td>\n",
       "      <td>...</td>\n",
       "      <td>0.098121</td>\n",
       "      <td>0.0</td>\n",
       "      <td>0.000000</td>\n",
       "      <td>0.0</td>\n",
       "      <td>0.0</td>\n",
       "      <td>0.000000</td>\n",
       "      <td>0.067804</td>\n",
       "      <td>0.033867</td>\n",
       "      <td>0.000000</td>\n",
       "      <td>0.000000</td>\n",
       "    </tr>\n",
       "  </tbody>\n",
       "</table>\n",
       "<p>10 rows × 30 columns</p>\n",
       "</div>"
      ],
      "text/plain": [
       "       WAGP_adj  INTP_adj  SEMP_adj  SSP_adj  SSIP_adj  PA_adj  RETP_adj  \\\n",
       "2787   0.000000  0.004237  0.014152    0.408       0.0     0.0       0.0   \n",
       "16996  0.141066  0.004237  0.014152    0.000       0.0     0.0       0.0   \n",
       "24698  0.000000  0.004237  0.134085    0.000       0.0     0.0       0.0   \n",
       "44484  0.031348  0.004298  0.038139    0.220       0.0     0.0       0.0   \n",
       "52872  0.064263  0.004237  0.014152    0.240       0.0     0.0       0.0   \n",
       "45801  0.125392  0.004237  0.014152    0.000       0.0     0.0       0.0   \n",
       "15057  0.000000  0.004237  0.014152    0.000       0.0     0.0       0.0   \n",
       "8632   0.000000  0.004237  0.014152    0.000       0.0     0.0       0.0   \n",
       "34126  0.188088  0.004237  0.014152    0.000       0.0     0.0       0.0   \n",
       "54901  0.070533  0.004237  0.014152    0.000       0.0     0.0       0.0   \n",
       "\n",
       "         OI_adj  MRGP_adj  RNTP_adj  ...  NYCgov_MedPremiums  NYCgov_WIC  \\\n",
       "2787   0.261538  0.000000  0.000000  ...            0.128265         0.0   \n",
       "16996  0.000000  0.396825  0.000000  ...            0.234772         0.0   \n",
       "24698  0.000000  0.460317  0.000000  ...            0.170331         0.0   \n",
       "44484  0.000000  0.000000  0.394737  ...            0.025601         0.0   \n",
       "52872  0.000000  0.000000  0.000000  ...            0.127905         0.0   \n",
       "45801  0.000000  0.000000  0.289474  ...            0.009123         0.0   \n",
       "15057  0.000000  0.000000  0.447368  ...            0.122539         0.0   \n",
       "8632   0.000000  0.634921  0.000000  ...            0.326444         0.0   \n",
       "34126  0.000000  0.000000  0.500000  ...            0.013415         0.0   \n",
       "54901  0.000000  0.222222  0.000000  ...            0.098121         0.0   \n",
       "\n",
       "       NYCgov_SNAP  NYCgov_SchoolLunch  NYCgov_SchoolBreakfast  \\\n",
       "2787      0.000000                 0.0                     0.0   \n",
       "16996     0.000000                 0.0                     0.0   \n",
       "24698     0.000000                 0.0                     0.0   \n",
       "44484     0.000000                 0.0                     0.0   \n",
       "52872     0.000000                 0.0                     0.0   \n",
       "45801     0.000000                 0.0                     0.0   \n",
       "15057     0.207361                 0.0                     0.0   \n",
       "8632      0.000000                 0.0                     0.0   \n",
       "34126     0.000000                 0.0                     0.0   \n",
       "54901     0.000000                 0.0                     0.0   \n",
       "\n",
       "       NYCgov_Nutrition  NYCgov_FICAtax  NYCgov_IncomeTax  NYCgov_PovGap  \\\n",
       "2787           0.000000        0.000000          0.021135       0.000000   \n",
       "16996          0.000000        0.071792          0.041968       0.000000   \n",
       "24698          0.000000        0.108823          0.047296       0.000000   \n",
       "44484          0.000000        0.026060          0.023741       0.000000   \n",
       "52872          0.000000        0.025158          0.028347       0.000000   \n",
       "45801          0.000000        0.049089          0.041835       0.000000   \n",
       "15057          0.183164        0.030940          0.016525       0.160323   \n",
       "8632           0.000000        0.184082          0.115368       0.000000   \n",
       "34126          0.000000        0.073633          0.057221       0.000000   \n",
       "54901          0.000000        0.067804          0.033867       0.000000   \n",
       "\n",
       "       NYCgov_PovGapIndex  \n",
       "2787             0.000000  \n",
       "16996            0.000000  \n",
       "24698            0.000000  \n",
       "44484            0.000000  \n",
       "52872            0.000000  \n",
       "45801            0.000000  \n",
       "15057            0.275455  \n",
       "8632             0.000000  \n",
       "34126            0.000000  \n",
       "54901            0.000000  \n",
       "\n",
       "[10 rows x 30 columns]"
      ]
     },
     "execution_count": 55,
     "metadata": {},
     "output_type": "execute_result"
    }
   ],
   "source": [
    "data.loc[:, float_cols].sample(10)"
   ]
  },
  {
   "cell_type": "code",
   "execution_count": 48,
   "metadata": {},
   "outputs": [],
   "source": []
  },
  {
   "cell_type": "code",
   "execution_count": 56,
   "metadata": {},
   "outputs": [
    {
     "data": {
      "text/plain": [
       "Index(['TotalWorkHrs_PU', 'ENG', 'AGEP', 'EducAttain', 'NYCgov_Housing',\n",
       "       'CIT_2', 'CIT_3', 'CIT_4', 'CIT_5', 'SEX_2', 'ESR_1.0', 'ESR_2.0',\n",
       "       'ESR_3.0', 'ESR_4.0', 'ESR_6.0', 'DIS_2', 'Ethnicity_2', 'Ethnicity_3',\n",
       "       'Ethnicity_4', 'Ethnicity_5', 'Boro_2', 'Boro_3', 'Boro_4', 'Boro_5'],\n",
       "      dtype='object')"
      ]
     },
     "execution_count": 56,
     "metadata": {},
     "output_type": "execute_result"
    }
   ],
   "source": [
    "X = pd.get_dummies(data[chosen_cols5], drop_first=True, dtype=float)\n",
    "X.columns"
   ]
  },
  {
   "cell_type": "code",
   "execution_count": 57,
   "metadata": {},
   "outputs": [],
   "source": [
    "pca = PCA(n_components=0.99)\n",
    "X_pca = pca.fit_transform(X)"
   ]
  },
  {
   "cell_type": "code",
   "execution_count": 58,
   "metadata": {},
   "outputs": [
    {
     "data": {
      "text/plain": [
       "(68094, 2)"
      ]
     },
     "execution_count": 58,
     "metadata": {},
     "output_type": "execute_result"
    }
   ],
   "source": [
    "X_pca.shape"
   ]
  },
  {
   "cell_type": "code",
   "execution_count": null,
   "metadata": {},
   "outputs": [],
   "source": []
  },
  {
   "cell_type": "code",
   "execution_count": null,
   "metadata": {},
   "outputs": [],
   "source": []
  },
  {
   "cell_type": "code",
   "execution_count": 59,
   "metadata": {},
   "outputs": [
    {
     "name": "stdout",
     "output_type": "stream",
     "text": [
      "Optimization terminated successfully.\n",
      "         Current function value: 0.354466\n",
      "         Iterations 7\n"
     ]
    }
   ],
   "source": [
    "y = data['NYCgov_Pov_Stat']\n",
    "\n",
    "X = sm.tools.add_constant(X)\n",
    "\n",
    "logit_model = sm.Logit(y, X)\n",
    "result = logit_model.fit() #transparams=False"
   ]
  },
  {
   "cell_type": "code",
   "execution_count": 60,
   "metadata": {
    "scrolled": true
   },
   "outputs": [
    {
     "data": {
      "text/html": [
       "<table class=\"simpletable\">\n",
       "<caption>Logit Regression Results</caption>\n",
       "<tr>\n",
       "  <th>Dep. Variable:</th>  <td>NYCgov_Pov_Stat</td> <th>  No. Observations:  </th>  <td> 68094</td> \n",
       "</tr>\n",
       "<tr>\n",
       "  <th>Model:</th>               <td>Logit</td>      <th>  Df Residuals:      </th>  <td> 68069</td> \n",
       "</tr>\n",
       "<tr>\n",
       "  <th>Method:</th>               <td>MLE</td>       <th>  Df Model:          </th>  <td>    24</td> \n",
       "</tr>\n",
       "<tr>\n",
       "  <th>Date:</th>          <td>Thu, 19 Sep 2019</td> <th>  Pseudo R-squ.:     </th>  <td>0.2427</td> \n",
       "</tr>\n",
       "<tr>\n",
       "  <th>Time:</th>              <td>12:07:19</td>     <th>  Log-Likelihood:    </th> <td> -24137.</td>\n",
       "</tr>\n",
       "<tr>\n",
       "  <th>converged:</th>           <td>True</td>       <th>  LL-Null:           </th> <td> -31874.</td>\n",
       "</tr>\n",
       "<tr>\n",
       "  <th> </th>                      <td> </td>        <th>  LLR p-value:       </th>  <td> 0.000</td> \n",
       "</tr>\n",
       "</table>\n",
       "<table class=\"simpletable\">\n",
       "<tr>\n",
       "         <td></td>            <th>coef</th>     <th>std err</th>      <th>z</th>      <th>P>|z|</th>  <th>[0.025</th>    <th>0.975]</th>  \n",
       "</tr>\n",
       "<tr>\n",
       "  <th>const</th>           <td>    3.5280</td> <td>    0.068</td> <td>   51.712</td> <td> 0.000</td> <td>    3.394</td> <td>    3.662</td>\n",
       "</tr>\n",
       "<tr>\n",
       "  <th>TotalWorkHrs_PU</th> <td>   -0.9745</td> <td>    0.011</td> <td>  -86.261</td> <td> 0.000</td> <td>   -0.997</td> <td>   -0.952</td>\n",
       "</tr>\n",
       "<tr>\n",
       "  <th>ENG</th>             <td>   -0.2303</td> <td>    0.014</td> <td>  -16.750</td> <td> 0.000</td> <td>   -0.257</td> <td>   -0.203</td>\n",
       "</tr>\n",
       "<tr>\n",
       "  <th>AGEP</th>            <td>    0.0309</td> <td>    0.001</td> <td>   38.538</td> <td> 0.000</td> <td>    0.029</td> <td>    0.032</td>\n",
       "</tr>\n",
       "<tr>\n",
       "  <th>EducAttain</th>      <td>    0.2958</td> <td>    0.012</td> <td>   23.875</td> <td> 0.000</td> <td>    0.271</td> <td>    0.320</td>\n",
       "</tr>\n",
       "<tr>\n",
       "  <th>NYCgov_Housing</th>  <td>    2.7238</td> <td>    0.107</td> <td>   25.563</td> <td> 0.000</td> <td>    2.515</td> <td>    2.933</td>\n",
       "</tr>\n",
       "<tr>\n",
       "  <th>CIT_2</th>           <td>    0.1047</td> <td>    0.078</td> <td>    1.348</td> <td> 0.178</td> <td>   -0.047</td> <td>    0.257</td>\n",
       "</tr>\n",
       "<tr>\n",
       "  <th>CIT_3</th>           <td>   -0.1102</td> <td>    0.097</td> <td>   -1.134</td> <td> 0.257</td> <td>   -0.301</td> <td>    0.080</td>\n",
       "</tr>\n",
       "<tr>\n",
       "  <th>CIT_4</th>           <td>   -0.1388</td> <td>    0.036</td> <td>   -3.883</td> <td> 0.000</td> <td>   -0.209</td> <td>   -0.069</td>\n",
       "</tr>\n",
       "<tr>\n",
       "  <th>CIT_5</th>           <td>   -0.4433</td> <td>    0.039</td> <td>  -11.305</td> <td> 0.000</td> <td>   -0.520</td> <td>   -0.366</td>\n",
       "</tr>\n",
       "<tr>\n",
       "  <th>SEX_2</th>           <td>   -0.0313</td> <td>    0.023</td> <td>   -1.341</td> <td> 0.180</td> <td>   -0.077</td> <td>    0.014</td>\n",
       "</tr>\n",
       "<tr>\n",
       "  <th>ESR_1.0</th>         <td>   -0.8919</td> <td>    0.049</td> <td>  -18.207</td> <td> 0.000</td> <td>   -0.988</td> <td>   -0.796</td>\n",
       "</tr>\n",
       "<tr>\n",
       "  <th>ESR_2.0</th>         <td>   -0.9520</td> <td>    0.117</td> <td>   -8.105</td> <td> 0.000</td> <td>   -1.182</td> <td>   -0.722</td>\n",
       "</tr>\n",
       "<tr>\n",
       "  <th>ESR_3.0</th>         <td>   -1.4566</td> <td>    0.067</td> <td>  -21.614</td> <td> 0.000</td> <td>   -1.589</td> <td>   -1.324</td>\n",
       "</tr>\n",
       "<tr>\n",
       "  <th>ESR_4.0</th>         <td>   -2.0188</td> <td>    0.516</td> <td>   -3.914</td> <td> 0.000</td> <td>   -3.030</td> <td>   -1.008</td>\n",
       "</tr>\n",
       "<tr>\n",
       "  <th>ESR_6.0</th>         <td>   -0.9726</td> <td>    0.049</td> <td>  -19.988</td> <td> 0.000</td> <td>   -1.068</td> <td>   -0.877</td>\n",
       "</tr>\n",
       "<tr>\n",
       "  <th>DIS_2</th>           <td>    0.0574</td> <td>    0.036</td> <td>    1.597</td> <td> 0.110</td> <td>   -0.013</td> <td>    0.128</td>\n",
       "</tr>\n",
       "<tr>\n",
       "  <th>Ethnicity_2</th>     <td>   -0.3514</td> <td>    0.035</td> <td>  -10.053</td> <td> 0.000</td> <td>   -0.420</td> <td>   -0.283</td>\n",
       "</tr>\n",
       "<tr>\n",
       "  <th>Ethnicity_3</th>     <td>   -0.7162</td> <td>    0.038</td> <td>  -18.716</td> <td> 0.000</td> <td>   -0.791</td> <td>   -0.641</td>\n",
       "</tr>\n",
       "<tr>\n",
       "  <th>Ethnicity_4</th>     <td>   -0.2055</td> <td>    0.036</td> <td>   -5.715</td> <td> 0.000</td> <td>   -0.276</td> <td>   -0.135</td>\n",
       "</tr>\n",
       "<tr>\n",
       "  <th>Ethnicity_5</th>     <td>   -0.4972</td> <td>    0.069</td> <td>   -7.172</td> <td> 0.000</td> <td>   -0.633</td> <td>   -0.361</td>\n",
       "</tr>\n",
       "<tr>\n",
       "  <th>Boro_2</th>          <td>    0.1469</td> <td>    0.035</td> <td>    4.170</td> <td> 0.000</td> <td>    0.078</td> <td>    0.216</td>\n",
       "</tr>\n",
       "<tr>\n",
       "  <th>Boro_3</th>          <td>    0.4792</td> <td>    0.046</td> <td>   10.345</td> <td> 0.000</td> <td>    0.388</td> <td>    0.570</td>\n",
       "</tr>\n",
       "<tr>\n",
       "  <th>Boro_4</th>          <td>    0.2151</td> <td>    0.037</td> <td>    5.887</td> <td> 0.000</td> <td>    0.143</td> <td>    0.287</td>\n",
       "</tr>\n",
       "<tr>\n",
       "  <th>Boro_5</th>          <td>    0.2018</td> <td>    0.060</td> <td>    3.338</td> <td> 0.001</td> <td>    0.083</td> <td>    0.320</td>\n",
       "</tr>\n",
       "</table>"
      ],
      "text/plain": [
       "<class 'statsmodels.iolib.summary.Summary'>\n",
       "\"\"\"\n",
       "                           Logit Regression Results                           \n",
       "==============================================================================\n",
       "Dep. Variable:        NYCgov_Pov_Stat   No. Observations:                68094\n",
       "Model:                          Logit   Df Residuals:                    68069\n",
       "Method:                           MLE   Df Model:                           24\n",
       "Date:                Thu, 19 Sep 2019   Pseudo R-squ.:                  0.2427\n",
       "Time:                        12:07:19   Log-Likelihood:                -24137.\n",
       "converged:                       True   LL-Null:                       -31874.\n",
       "                                        LLR p-value:                     0.000\n",
       "===================================================================================\n",
       "                      coef    std err          z      P>|z|      [0.025      0.975]\n",
       "-----------------------------------------------------------------------------------\n",
       "const               3.5280      0.068     51.712      0.000       3.394       3.662\n",
       "TotalWorkHrs_PU    -0.9745      0.011    -86.261      0.000      -0.997      -0.952\n",
       "ENG                -0.2303      0.014    -16.750      0.000      -0.257      -0.203\n",
       "AGEP                0.0309      0.001     38.538      0.000       0.029       0.032\n",
       "EducAttain          0.2958      0.012     23.875      0.000       0.271       0.320\n",
       "NYCgov_Housing      2.7238      0.107     25.563      0.000       2.515       2.933\n",
       "CIT_2               0.1047      0.078      1.348      0.178      -0.047       0.257\n",
       "CIT_3              -0.1102      0.097     -1.134      0.257      -0.301       0.080\n",
       "CIT_4              -0.1388      0.036     -3.883      0.000      -0.209      -0.069\n",
       "CIT_5              -0.4433      0.039    -11.305      0.000      -0.520      -0.366\n",
       "SEX_2              -0.0313      0.023     -1.341      0.180      -0.077       0.014\n",
       "ESR_1.0            -0.8919      0.049    -18.207      0.000      -0.988      -0.796\n",
       "ESR_2.0            -0.9520      0.117     -8.105      0.000      -1.182      -0.722\n",
       "ESR_3.0            -1.4566      0.067    -21.614      0.000      -1.589      -1.324\n",
       "ESR_4.0            -2.0188      0.516     -3.914      0.000      -3.030      -1.008\n",
       "ESR_6.0            -0.9726      0.049    -19.988      0.000      -1.068      -0.877\n",
       "DIS_2               0.0574      0.036      1.597      0.110      -0.013       0.128\n",
       "Ethnicity_2        -0.3514      0.035    -10.053      0.000      -0.420      -0.283\n",
       "Ethnicity_3        -0.7162      0.038    -18.716      0.000      -0.791      -0.641\n",
       "Ethnicity_4        -0.2055      0.036     -5.715      0.000      -0.276      -0.135\n",
       "Ethnicity_5        -0.4972      0.069     -7.172      0.000      -0.633      -0.361\n",
       "Boro_2              0.1469      0.035      4.170      0.000       0.078       0.216\n",
       "Boro_3              0.4792      0.046     10.345      0.000       0.388       0.570\n",
       "Boro_4              0.2151      0.037      5.887      0.000       0.143       0.287\n",
       "Boro_5              0.2018      0.060      3.338      0.001       0.083       0.320\n",
       "===================================================================================\n",
       "\"\"\""
      ]
     },
     "execution_count": 60,
     "metadata": {},
     "output_type": "execute_result"
    }
   ],
   "source": [
    "result.summary()"
   ]
  },
  {
   "cell_type": "code",
   "execution_count": 61,
   "metadata": {},
   "outputs": [],
   "source": [
    "# Split the data into a training set and a test set\n",
    "X_train, X_test, y_train, y_test = train_test_split(X, y, random_state=0)"
   ]
  },
  {
   "cell_type": "code",
   "execution_count": 62,
   "metadata": {},
   "outputs": [
    {
     "data": {
      "text/plain": [
       "LogisticRegression(C=1000000000000.0, class_weight=None, dual=False,\n",
       "          fit_intercept=False, intercept_scaling=1, max_iter=100,\n",
       "          multi_class='ovr', n_jobs=1, penalty='l2', random_state=None,\n",
       "          solver='liblinear', tol=0.0001, verbose=0, warm_start=False)"
      ]
     },
     "execution_count": 62,
     "metadata": {},
     "output_type": "execute_result"
    }
   ],
   "source": [
    "logreg = LogisticRegression(fit_intercept = False, C = 1e12, solver='liblinear')\n",
    "model_log = logreg.fit(X_train, y_train)\n",
    "model_log"
   ]
  },
  {
   "cell_type": "code",
   "execution_count": 88,
   "metadata": {
    "collapsed": true
   },
   "outputs": [
    {
     "name": "stdout",
     "output_type": "stream",
     "text": [
      "LogisticRegression(C=1000000000000.0, class_weight=None, dual=False,\n",
      "          fit_intercept=False, intercept_scaling=1, max_iter=100,\n",
      "          multi_class='ovr', n_jobs=1, penalty='l2', random_state=None,\n",
      "          solver='lbfgs', tol=0.0001, verbose=0, warm_start=False)\n",
      "AUC for None: 0.8319365578823353\n",
      "LogisticRegression(C=1000000000000.0, class_weight='balanced', dual=False,\n",
      "          fit_intercept=False, intercept_scaling=1, max_iter=100,\n",
      "          multi_class='ovr', n_jobs=1, penalty='l2', random_state=None,\n",
      "          solver='lbfgs', tol=0.0001, verbose=0, warm_start=False)\n",
      "AUC for Balanced: 0.8337058091532861\n",
      "LogisticRegression(C=1000000000000.0, class_weight={1: 2, 0: 1}, dual=False,\n",
      "          fit_intercept=False, intercept_scaling=1, max_iter=100,\n",
      "          multi_class='ovr', n_jobs=1, penalty='l2', random_state=None,\n",
      "          solver='lbfgs', tol=0.0001, verbose=0, warm_start=False)\n",
      "AUC for 2 to 1: 0.8321660704758185\n",
      "LogisticRegression(C=1000000000000.0, class_weight={1: 10, 0: 1}, dual=False,\n",
      "          fit_intercept=False, intercept_scaling=1, max_iter=100,\n",
      "          multi_class='ovr', n_jobs=1, penalty='l2', random_state=None,\n",
      "          solver='lbfgs', tol=0.0001, verbose=0, warm_start=False)\n",
      "AUC for 10 to 1: 0.8315565688910835\n",
      "LogisticRegression(C=1000000000000.0, class_weight={1: 100, 0: 1}, dual=False,\n",
      "          fit_intercept=False, intercept_scaling=1, max_iter=100,\n",
      "          multi_class='ovr', n_jobs=1, penalty='l2', random_state=None,\n",
      "          solver='lbfgs', tol=0.0001, verbose=0, warm_start=False)\n",
      "AUC for 100 to 1: 0.8284706550555396\n",
      "LogisticRegression(C=1000000000000.0, class_weight={1: 1000, 0: 1},\n",
      "          dual=False, fit_intercept=False, intercept_scaling=1,\n",
      "          max_iter=100, multi_class='ovr', n_jobs=1, penalty='l2',\n",
      "          random_state=None, solver='lbfgs', tol=0.0001, verbose=0,\n",
      "          warm_start=False)\n",
      "AUC for 1000 to 1: 0.8307072137495342\n"
     ]
    },
    {
     "data": {
      "image/png": "[encoded data removed]",
      "text/plain": [
       "<Figure size 720x576 with 1 Axes>"
      ]
     },
     "metadata": {
      "needs_background": "light"
     },
     "output_type": "display_data"
    }
   ],
   "source": [
    "# Now let's compare a few different regularization performances on the dataset:\n",
    "weights = [None, 'balanced', {1:2, 0:1}, {1:10, 0:1}, {1:100, 0:1}, {1:1000, 0:1}]\n",
    "names = ['None', 'Balanced', '2 to 1', '10 to 1', '100 to 1', '1000 to 1']\n",
    "colors = sns.color_palette(\"Set2\")\n",
    "\n",
    "plt.figure(figsize=(10,8))\n",
    "\n",
    "for n, weight in enumerate(weights):\n",
    "    #Fit a model\n",
    "    logreg = LogisticRegression(fit_intercept = False, C = 1e12, class_weight=weight,solver='lbfgs') #Starter code\n",
    "    model_log = logreg.fit(X_train, y_train)\n",
    "    print(model_log) #Preview model params\n",
    "\n",
    "    #Predict\n",
    "    y_hat_test = logreg.predict(X_test)\n",
    "\n",
    "    y_score = logreg.fit(X_train, y_train).decision_function(X_test)\n",
    "\n",
    "    fpr, tpr, thresholds = roc_curve(y_test, y_score)\n",
    "    \n",
    "    print('AUC for {}: {}'.format(names[n], auc(fpr, tpr)))\n",
    "    lw = 2\n",
    "    plt.plot(fpr, tpr, color=colors[n],\n",
    "             lw=lw, label='ROC curve {}'.format(names[n]))\n",
    "plt.plot([0, 1], [0, 1], color='navy', lw=lw, linestyle='--')\n",
    "plt.xlim([0.0, 1.0])\n",
    "plt.ylim([0.0, 1.05])\n",
    "\n",
    "plt.yticks([i/20.0 for i in range(21)])\n",
    "plt.xticks([i/20.0 for i in range(21)])\n",
    "plt.xlabel('False Positive Rate')\n",
    "plt.ylabel('True Positive Rate')\n",
    "plt.title('Receiver operating characteristic (ROC) Curve')\n",
    "plt.legend(loc=\"lower right\")\n",
    "plt.show()"
   ]
  },
  {
   "cell_type": "code",
   "execution_count": 64,
   "metadata": {},
   "outputs": [
    {
     "name": "stdout",
     "output_type": "stream",
     "text": [
      "Precision Score: 0.8227796052631579\n",
      "Recall Score: 1.0\n",
      "Accuracy Score: 0.8227796052631579\n",
      "F1 Score: 0.9027746447101285\n"
     ]
    }
   ],
   "source": [
    "def print_metrics(test, preds):\n",
    "    print(\"Precision Score: {}\".format(precision_score(test, preds)))\n",
    "    print(\"Recall Score: {}\".format(recall_score(test, preds)))\n",
    "    print(\"Accuracy Score: {}\".format(accuracy_score(test, preds)))\n",
    "    print(\"F1 Score: {}\".format(f1_score(test, preds)))\n",
    "\t\n",
    "# Fitting and training the dummy\n",
    "dummy = DummyClassifier(strategy='most_frequent')\n",
    "dummy.fit(X_train, y_train)\n",
    "\n",
    "# Dummy predictions\n",
    "dum_pred = dummy.predict(X_test)\n",
    "\n",
    "#Printing out results\n",
    "print_metrics(y_test, dum_pred)"
   ]
  },
  {
   "cell_type": "code",
   "execution_count": 75,
   "metadata": {
    "collapsed": true
   },
   "outputs": [
    {
     "name": "stdout",
     "output_type": "stream",
     "text": [
      "0.7888275375939849\n",
      "0.745829417293233\n",
      "0.8202537593984962\n",
      "0.8067434210526315\n",
      "0.8323543233082706\n",
      "0.8290061090225563\n",
      "0.8385220864661654\n",
      "0.8361724624060151\n",
      "0.8415765977443609\n",
      "0.8401668233082706\n",
      "0.8426339285714286\n",
      "0.8417528195488722\n",
      "0.8438087406015038\n",
      "0.8432800751879699\n",
      "0.8458059210526315\n",
      "0.8448073308270677\n",
      "0.8448660714285714\n",
      "0.8459821428571429\n",
      "0.8468045112781954\n",
      "0.8474506578947368\n",
      "0.8462171052631579\n",
      "0.8462171052631579\n",
      "0.8467457706766918\n",
      "0.8463345864661654\n",
      "0.8461583646616542\n"
     ]
    }
   ],
   "source": [
    "#run thru 25 iterations of k, record testing accuracy\n",
    "k_range = range(1,26)\n",
    "scores = {}\n",
    "scores_list = []\n",
    "for k in k_range:\n",
    "    knn = KNeighborsClassifier(n_neighbors=k)\n",
    "    knn.fit(X_train, y_train)\n",
    "    y_pred=knn.predict(X_test)\n",
    "    scores[k] = metrics.accuracy_score(y_test, y_pred)\n",
    "    print(knn.score(X_test, y_test))\n",
    "    scores_list.append(metrics.accuracy_score(y_test,y_pred))"
   ]
  },
  {
   "cell_type": "code",
   "execution_count": 74,
   "metadata": {},
   "outputs": [
    {
     "data": {
      "text/plain": [
       "Text(0, 0.5, 'Testing Accuracy')"
      ]
     },
     "execution_count": 74,
     "metadata": {},
     "output_type": "execute_result"
    },
    {
     "data": {
      "image/png": "[encoded data removed]",
      "text/plain": [
       "<Figure size 432x288 with 1 Axes>"
      ]
     },
     "metadata": {
      "needs_background": "light"
     },
     "output_type": "display_data"
    }
   ],
   "source": [
    "%matplotlib inline\n",
    "\n",
    "plt.plot(k_range, scores_list)\n",
    "plt.xlabel('Value of K for KNN')\n",
    "plt.ylabel('Testing Accuracy')"
   ]
  },
  {
   "cell_type": "code",
   "execution_count": 77,
   "metadata": {},
   "outputs": [],
   "source": [
    "cnf_matrix = confusion_matrix(y_test, y_pred)"
   ]
  },
  {
   "cell_type": "code",
   "execution_count": 78,
   "metadata": {},
   "outputs": [
    {
     "data": {
      "text/plain": [
       "array([[  751,  2266],\n",
       "       [  353, 13654]])"
      ]
     },
     "execution_count": 78,
     "metadata": {},
     "output_type": "execute_result"
    }
   ],
   "source": [
    "cnf_matrix"
   ]
  },
  {
   "cell_type": "code",
   "execution_count": 87,
   "metadata": {},
   "outputs": [
    {
     "name": "stdout",
     "output_type": "stream",
     "text": [
      "LogisticRegression(C=1000000000000.0, class_weight=None, dual=False,\n",
      "          fit_intercept=False, intercept_scaling=1, max_iter=100,\n",
      "          multi_class='ovr', n_jobs=1, penalty='l2', random_state=None,\n",
      "          solver='liblinear', tol=0.0001, verbose=0, warm_start=False)\n"
     ]
    },
    {
     "ename": "TypeError",
     "evalue": "Singleton array 0.7601621240601504 cannot be considered a valid collection.",
     "output_type": "error",
     "traceback": [
      "\u001b[0;31m---------------------------------------------------------------------------\u001b[0m",
      "\u001b[0;31mTypeError\u001b[0m                                 Traceback (most recent call last)",
      "\u001b[0;32m<ipython-input-87-5527e99aabe3>\u001b[0m in \u001b[0;36m<module>\u001b[0;34m\u001b[0m\n\u001b[1;32m     19\u001b[0m     \u001b[0my_score\u001b[0m \u001b[0;34m=\u001b[0m \u001b[0mmetrics\u001b[0m\u001b[0;34m.\u001b[0m\u001b[0maccuracy_score\u001b[0m\u001b[0;34m(\u001b[0m\u001b[0my_test\u001b[0m\u001b[0;34m,\u001b[0m \u001b[0my_pred\u001b[0m\u001b[0;34m)\u001b[0m\u001b[0;34m\u001b[0m\u001b[0;34m\u001b[0m\u001b[0m\n\u001b[1;32m     20\u001b[0m \u001b[0;34m\u001b[0m\u001b[0m\n\u001b[0;32m---> 21\u001b[0;31m     \u001b[0mfpr\u001b[0m\u001b[0;34m,\u001b[0m \u001b[0mtpr\u001b[0m\u001b[0;34m,\u001b[0m \u001b[0mthresholds\u001b[0m \u001b[0;34m=\u001b[0m \u001b[0mroc_curve\u001b[0m\u001b[0;34m(\u001b[0m\u001b[0my_pred\u001b[0m\u001b[0;34m,\u001b[0m \u001b[0my_score\u001b[0m\u001b[0;34m)\u001b[0m\u001b[0;34m\u001b[0m\u001b[0;34m\u001b[0m\u001b[0m\n\u001b[0m\u001b[1;32m     22\u001b[0m \u001b[0;34m\u001b[0m\u001b[0m\n\u001b[1;32m     23\u001b[0m     \u001b[0mprint\u001b[0m\u001b[0;34m(\u001b[0m\u001b[0;34m'AUC for {}: {}'\u001b[0m\u001b[0;34m.\u001b[0m\u001b[0mformat\u001b[0m\u001b[0;34m(\u001b[0m\u001b[0mnames\u001b[0m\u001b[0;34m[\u001b[0m\u001b[0mn\u001b[0m\u001b[0;34m]\u001b[0m\u001b[0;34m,\u001b[0m \u001b[0mauc\u001b[0m\u001b[0;34m(\u001b[0m\u001b[0mfpr\u001b[0m\u001b[0;34m,\u001b[0m \u001b[0mtpr\u001b[0m\u001b[0;34m)\u001b[0m\u001b[0;34m)\u001b[0m\u001b[0;34m)\u001b[0m\u001b[0;34m\u001b[0m\u001b[0;34m\u001b[0m\u001b[0m\n",
      "\u001b[0;32m~/anaconda3/lib/python3.7/site-packages/sklearn/metrics/ranking.py\u001b[0m in \u001b[0;36mroc_curve\u001b[0;34m(y_true, y_score, pos_label, sample_weight, drop_intermediate)\u001b[0m\n\u001b[1;32m    532\u001b[0m     \"\"\"\n\u001b[1;32m    533\u001b[0m     fps, tps, thresholds = _binary_clf_curve(\n\u001b[0;32m--> 534\u001b[0;31m         y_true, y_score, pos_label=pos_label, sample_weight=sample_weight)\n\u001b[0m\u001b[1;32m    535\u001b[0m \u001b[0;34m\u001b[0m\u001b[0m\n\u001b[1;32m    536\u001b[0m     \u001b[0;31m# Attempt to drop thresholds corresponding to points in between and\u001b[0m\u001b[0;34m\u001b[0m\u001b[0;34m\u001b[0m\u001b[0;34m\u001b[0m\u001b[0m\n",
      "\u001b[0;32m~/anaconda3/lib/python3.7/site-packages/sklearn/metrics/ranking.py\u001b[0m in \u001b[0;36m_binary_clf_curve\u001b[0;34m(y_true, y_score, pos_label, sample_weight)\u001b[0m\n\u001b[1;32m    318\u001b[0m         \u001b[0;32mraise\u001b[0m \u001b[0mValueError\u001b[0m\u001b[0;34m(\u001b[0m\u001b[0;34m\"{0} format is not supported\"\u001b[0m\u001b[0;34m.\u001b[0m\u001b[0mformat\u001b[0m\u001b[0;34m(\u001b[0m\u001b[0my_type\u001b[0m\u001b[0;34m)\u001b[0m\u001b[0;34m)\u001b[0m\u001b[0;34m\u001b[0m\u001b[0;34m\u001b[0m\u001b[0m\n\u001b[1;32m    319\u001b[0m \u001b[0;34m\u001b[0m\u001b[0m\n\u001b[0;32m--> 320\u001b[0;31m     \u001b[0mcheck_consistent_length\u001b[0m\u001b[0;34m(\u001b[0m\u001b[0my_true\u001b[0m\u001b[0;34m,\u001b[0m \u001b[0my_score\u001b[0m\u001b[0;34m,\u001b[0m \u001b[0msample_weight\u001b[0m\u001b[0;34m)\u001b[0m\u001b[0;34m\u001b[0m\u001b[0;34m\u001b[0m\u001b[0m\n\u001b[0m\u001b[1;32m    321\u001b[0m     \u001b[0my_true\u001b[0m \u001b[0;34m=\u001b[0m \u001b[0mcolumn_or_1d\u001b[0m\u001b[0;34m(\u001b[0m\u001b[0my_true\u001b[0m\u001b[0;34m)\u001b[0m\u001b[0;34m\u001b[0m\u001b[0;34m\u001b[0m\u001b[0m\n\u001b[1;32m    322\u001b[0m     \u001b[0my_score\u001b[0m \u001b[0;34m=\u001b[0m \u001b[0mcolumn_or_1d\u001b[0m\u001b[0;34m(\u001b[0m\u001b[0my_score\u001b[0m\u001b[0;34m)\u001b[0m\u001b[0;34m\u001b[0m\u001b[0;34m\u001b[0m\u001b[0m\n",
      "\u001b[0;32m~/anaconda3/lib/python3.7/site-packages/sklearn/utils/validation.py\u001b[0m in \u001b[0;36mcheck_consistent_length\u001b[0;34m(*arrays)\u001b[0m\n\u001b[1;32m    198\u001b[0m     \"\"\"\n\u001b[1;32m    199\u001b[0m \u001b[0;34m\u001b[0m\u001b[0m\n\u001b[0;32m--> 200\u001b[0;31m     \u001b[0mlengths\u001b[0m \u001b[0;34m=\u001b[0m \u001b[0;34m[\u001b[0m\u001b[0m_num_samples\u001b[0m\u001b[0;34m(\u001b[0m\u001b[0mX\u001b[0m\u001b[0;34m)\u001b[0m \u001b[0;32mfor\u001b[0m \u001b[0mX\u001b[0m \u001b[0;32min\u001b[0m \u001b[0marrays\u001b[0m \u001b[0;32mif\u001b[0m \u001b[0mX\u001b[0m \u001b[0;32mis\u001b[0m \u001b[0;32mnot\u001b[0m \u001b[0;32mNone\u001b[0m\u001b[0;34m]\u001b[0m\u001b[0;34m\u001b[0m\u001b[0;34m\u001b[0m\u001b[0m\n\u001b[0m\u001b[1;32m    201\u001b[0m     \u001b[0muniques\u001b[0m \u001b[0;34m=\u001b[0m \u001b[0mnp\u001b[0m\u001b[0;34m.\u001b[0m\u001b[0munique\u001b[0m\u001b[0;34m(\u001b[0m\u001b[0mlengths\u001b[0m\u001b[0;34m)\u001b[0m\u001b[0;34m\u001b[0m\u001b[0;34m\u001b[0m\u001b[0m\n\u001b[1;32m    202\u001b[0m     \u001b[0;32mif\u001b[0m \u001b[0mlen\u001b[0m\u001b[0;34m(\u001b[0m\u001b[0muniques\u001b[0m\u001b[0;34m)\u001b[0m \u001b[0;34m>\u001b[0m \u001b[0;36m1\u001b[0m\u001b[0;34m:\u001b[0m\u001b[0;34m\u001b[0m\u001b[0;34m\u001b[0m\u001b[0m\n",
      "\u001b[0;32m~/anaconda3/lib/python3.7/site-packages/sklearn/utils/validation.py\u001b[0m in \u001b[0;36m<listcomp>\u001b[0;34m(.0)\u001b[0m\n\u001b[1;32m    198\u001b[0m     \"\"\"\n\u001b[1;32m    199\u001b[0m \u001b[0;34m\u001b[0m\u001b[0m\n\u001b[0;32m--> 200\u001b[0;31m     \u001b[0mlengths\u001b[0m \u001b[0;34m=\u001b[0m \u001b[0;34m[\u001b[0m\u001b[0m_num_samples\u001b[0m\u001b[0;34m(\u001b[0m\u001b[0mX\u001b[0m\u001b[0;34m)\u001b[0m \u001b[0;32mfor\u001b[0m \u001b[0mX\u001b[0m \u001b[0;32min\u001b[0m \u001b[0marrays\u001b[0m \u001b[0;32mif\u001b[0m \u001b[0mX\u001b[0m \u001b[0;32mis\u001b[0m \u001b[0;32mnot\u001b[0m \u001b[0;32mNone\u001b[0m\u001b[0;34m]\u001b[0m\u001b[0;34m\u001b[0m\u001b[0;34m\u001b[0m\u001b[0m\n\u001b[0m\u001b[1;32m    201\u001b[0m     \u001b[0muniques\u001b[0m \u001b[0;34m=\u001b[0m \u001b[0mnp\u001b[0m\u001b[0;34m.\u001b[0m\u001b[0munique\u001b[0m\u001b[0;34m(\u001b[0m\u001b[0mlengths\u001b[0m\u001b[0;34m)\u001b[0m\u001b[0;34m\u001b[0m\u001b[0;34m\u001b[0m\u001b[0m\n\u001b[1;32m    202\u001b[0m     \u001b[0;32mif\u001b[0m \u001b[0mlen\u001b[0m\u001b[0;34m(\u001b[0m\u001b[0muniques\u001b[0m\u001b[0;34m)\u001b[0m \u001b[0;34m>\u001b[0m \u001b[0;36m1\u001b[0m\u001b[0;34m:\u001b[0m\u001b[0;34m\u001b[0m\u001b[0;34m\u001b[0m\u001b[0m\n",
      "\u001b[0;32m~/anaconda3/lib/python3.7/site-packages/sklearn/utils/validation.py\u001b[0m in \u001b[0;36m_num_samples\u001b[0;34m(x)\u001b[0m\n\u001b[1;32m    117\u001b[0m         \u001b[0;32mif\u001b[0m \u001b[0mlen\u001b[0m\u001b[0;34m(\u001b[0m\u001b[0mx\u001b[0m\u001b[0;34m.\u001b[0m\u001b[0mshape\u001b[0m\u001b[0;34m)\u001b[0m \u001b[0;34m==\u001b[0m \u001b[0;36m0\u001b[0m\u001b[0;34m:\u001b[0m\u001b[0;34m\u001b[0m\u001b[0;34m\u001b[0m\u001b[0m\n\u001b[1;32m    118\u001b[0m             raise TypeError(\"Singleton array %r cannot be considered\"\n\u001b[0;32m--> 119\u001b[0;31m                             \" a valid collection.\" % x)\n\u001b[0m\u001b[1;32m    120\u001b[0m         \u001b[0;32mreturn\u001b[0m \u001b[0mx\u001b[0m\u001b[0;34m.\u001b[0m\u001b[0mshape\u001b[0m\u001b[0;34m[\u001b[0m\u001b[0;36m0\u001b[0m\u001b[0;34m]\u001b[0m\u001b[0;34m\u001b[0m\u001b[0;34m\u001b[0m\u001b[0m\n\u001b[1;32m    121\u001b[0m     \u001b[0;32melse\u001b[0m\u001b[0;34m:\u001b[0m\u001b[0;34m\u001b[0m\u001b[0;34m\u001b[0m\u001b[0m\n",
      "\u001b[0;31mTypeError\u001b[0m: Singleton array 0.7601621240601504 cannot be considered a valid collection."
     ]
    },
    {
     "data": {
      "text/plain": [
       "<Figure size 720x576 with 0 Axes>"
      ]
     },
     "metadata": {},
     "output_type": "display_data"
    }
   ],
   "source": [
    "# Now let's compare a few different ratios of minority class to majority class\n",
    "ratios = [0.1,0.25, 0.33, 0.5,0.7,1]\n",
    "names = ['0.1', '0.25', '0.33','0.5','0.7','even']\n",
    "colors = sns.color_palette(\"Set2\")\n",
    "\n",
    "plt.figure(figsize=(10,8))\n",
    "\n",
    "for n, ratio in enumerate(ratios):\n",
    "    #Fit a model\n",
    "    smote = SMOTE()\n",
    "    X_train_resampled, y_train_resampled = smote.fit_sample(X_train, y_train) \n",
    "    knn = KNeighborsClassifier(n_neighbors=k, p=1) #Starter code\n",
    "    model_knn = knn.fit(X_train_resampled, y_train_resampled)\n",
    "    print(model_log) #Preview model params\n",
    "\n",
    "    #Predict\n",
    "    y_pred = knn.predict(X_test)\n",
    "\n",
    "    y_score = metrics.accuracy_score(y_test, y_pred)\n",
    "\n",
    "    fpr, tpr, thresholds = roc_curve(y_pred, y_score)\n",
    "    \n",
    "    print('AUC for {}: {}'.format(names[n], auc(fpr, tpr)))\n",
    "    lw = 2\n",
    "    plt.plot(fpr, tpr, color=colors[n],\n",
    "             lw=lw, label='ROC curve {}'.format(names[n]))\n",
    "plt.plot([0, 1], [0, 1], color='navy', lw=lw, linestyle='--')\n",
    "plt.xlim([0.0, 1.0])\n",
    "plt.ylim([0.0, 1.05])\n",
    "\n",
    "plt.yticks([i/20.0 for i in range(21)])\n",
    "plt.xticks([i/20.0 for i in range(21)])\n",
    "plt.xlabel('False Positive Rate')\n",
    "plt.ylabel('True Positivex Rate')\n",
    "plt.title('Receiver operating characteristic (ROC) Curve')\n",
    "plt.legend(loc=\"lower right\")\n",
    "plt.show()"
   ]
  },
  {
   "cell_type": "code",
   "execution_count": 79,
   "metadata": {},
   "outputs": [
    {
     "name": "stdout",
     "output_type": "stream",
     "text": [
      "1    55985\n",
      "0    12109\n",
      "Name: NYCgov_Pov_Stat, dtype: int64\n",
      "1    41978\n",
      "0    41978\n",
      "dtype: int64\n"
     ]
    }
   ],
   "source": [
    "print(y.value_counts()) #Previous original class distribution\n",
    "smote = SMOTE()\n",
    "X_train_resampled, y_train_resampled = smote.fit_sample(X_train, y_train) \n",
    "print(pd.Series(y_train_resampled).value_counts()) #Preview synthetic sample class distribution"
   ]
  },
  {
   "cell_type": "code",
   "execution_count": 84,
   "metadata": {},
   "outputs": [
    {
     "ename": "TypeError",
     "evalue": "__init__() got an unexpected keyword argument 'sampling_strategy'",
     "output_type": "error",
     "traceback": [
      "\u001b[0;31m---------------------------------------------------------------------------\u001b[0m",
      "\u001b[0;31mTypeError\u001b[0m                                 Traceback (most recent call last)",
      "\u001b[0;32m<ipython-input-84-8a7889940d93>\u001b[0m in \u001b[0;36m<module>\u001b[0;34m\u001b[0m\n\u001b[1;32m      8\u001b[0m \u001b[0;32mfor\u001b[0m \u001b[0mn\u001b[0m\u001b[0;34m,\u001b[0m \u001b[0mratio\u001b[0m \u001b[0;32min\u001b[0m \u001b[0menumerate\u001b[0m\u001b[0;34m(\u001b[0m\u001b[0mratios\u001b[0m\u001b[0;34m)\u001b[0m\u001b[0;34m:\u001b[0m\u001b[0;34m\u001b[0m\u001b[0;34m\u001b[0m\u001b[0m\n\u001b[1;32m      9\u001b[0m     \u001b[0;31m#Fit a model\u001b[0m\u001b[0;34m\u001b[0m\u001b[0;34m\u001b[0m\u001b[0;34m\u001b[0m\u001b[0m\n\u001b[0;32m---> 10\u001b[0;31m     \u001b[0msmote\u001b[0m \u001b[0;34m=\u001b[0m \u001b[0mSMOTE\u001b[0m\u001b[0;34m(\u001b[0m\u001b[0msampling_strategy\u001b[0m\u001b[0;34m=\u001b[0m\u001b[0mratio\u001b[0m\u001b[0;34m)\u001b[0m\u001b[0;34m\u001b[0m\u001b[0;34m\u001b[0m\u001b[0m\n\u001b[0m\u001b[1;32m     11\u001b[0m     \u001b[0mX_train_resampled\u001b[0m\u001b[0;34m,\u001b[0m \u001b[0my_train_resampled\u001b[0m \u001b[0;34m=\u001b[0m \u001b[0msmote\u001b[0m\u001b[0;34m.\u001b[0m\u001b[0mfit_sample\u001b[0m\u001b[0;34m(\u001b[0m\u001b[0mX_train\u001b[0m\u001b[0;34m,\u001b[0m \u001b[0my_train\u001b[0m\u001b[0;34m)\u001b[0m\u001b[0;34m\u001b[0m\u001b[0;34m\u001b[0m\u001b[0m\n\u001b[1;32m     12\u001b[0m     \u001b[0mlogreg\u001b[0m \u001b[0;34m=\u001b[0m \u001b[0mLogisticRegression\u001b[0m\u001b[0;34m(\u001b[0m\u001b[0mfit_intercept\u001b[0m \u001b[0;34m=\u001b[0m \u001b[0;32mFalse\u001b[0m\u001b[0;34m,\u001b[0m \u001b[0mC\u001b[0m \u001b[0;34m=\u001b[0m \u001b[0;36m1e12\u001b[0m\u001b[0;34m,\u001b[0m\u001b[0msolver\u001b[0m \u001b[0;34m=\u001b[0m\u001b[0;34m'lbfgs'\u001b[0m\u001b[0;34m)\u001b[0m \u001b[0;31m#Starter code\u001b[0m\u001b[0;34m\u001b[0m\u001b[0;34m\u001b[0m\u001b[0m\n",
      "\u001b[0;31mTypeError\u001b[0m: __init__() got an unexpected keyword argument 'sampling_strategy'"
     ]
    },
    {
     "data": {
      "text/plain": [
       "<Figure size 720x576 with 0 Axes>"
      ]
     },
     "metadata": {},
     "output_type": "display_data"
    }
   ],
   "source": [
    "# Now let's compare a few different ratios of minority class to majority class\n",
    "ratios = [0.1,0.25, 0.33, 0.5,0.7,1]\n",
    "names = ['0.1', '0.25', '0.33','0.5','0.7','even']\n",
    "colors = sns.color_palette(\"Set2\")\n",
    "\n",
    "plt.figure(figsize=(10,8))\n",
    "\n",
    "for n, ratio in enumerate(ratios):\n",
    "    #Fit a model\n",
    "    smote = SMOTE(sampling_strategy=ratio)\n",
    "    X_train_resampled, y_train_resampled = smote.fit_sample(X_train, y_train) \n",
    "    logreg = LogisticRegression(fit_intercept = False, C = 1e12,solver ='lbfgs') #Starter code\n",
    "    model_log = logreg.fit(X_train_resampled, y_train_resampled)\n",
    "    print(model_log) #Preview model params\n",
    "\n",
    "    #Predict\n",
    "    y_hat_test = logreg.predict(X_test)\n",
    "\n",
    "    y_score = logreg.decision_function(X_test)\n",
    "\n",
    "    fpr, tpr, thresholds = roc_curve(y_test, y_score)\n",
    "    \n",
    "    print('AUC for {}: {}'.format(names[n], auc(fpr, tpr)))\n",
    "    lw = 2\n",
    "    plt.plot(fpr, tpr, color=colors[n],\n",
    "             lw=lw, label='ROC curve {}'.format(names[n]))\n",
    "plt.plot([0, 1], [0, 1], color='navy', lw=lw, linestyle='--')\n",
    "plt.xlim([0.0, 1.0])\n",
    "plt.ylim([0.0, 1.05])\n",
    "\n",
    "plt.yticks([i/20.0 for i in range(21)])\n",
    "plt.xticks([i/20.0 for i in range(21)])\n",
    "plt.xlabel('False Positive Rate')\n",
    "plt.ylabel('True Positive Rate')\n",
    "plt.title('Receiver operating characteristic (ROC) Curve')\n",
    "plt.legend(loc=\"lower right\")\n",
    "plt.show()"
   ]
  },
  {
   "cell_type": "code",
   "execution_count": 89,
   "metadata": {
    "collapsed": true
   },
   "outputs": [
    {
     "name": "stdout",
     "output_type": "stream",
     "text": [
      "1 0.7551104323308271\n",
      "2 0.6907894736842105\n",
      "3 0.7304981203007519\n",
      "4 0.6862077067669173\n",
      "5 0.7160479323308271\n",
      "6 0.684562969924812\n",
      "7 0.7110549812030075\n",
      "8 0.6856790413533834\n",
      "9 0.7091165413533834\n",
      "10 0.6870888157894737\n",
      "11 0.7065319548872181\n",
      "12 0.6848566729323309\n",
      "13 0.7061207706766918\n",
      "14 0.6855028195488722\n",
      "15 0.7044172932330827\n",
      "16 0.6863251879699248\n",
      "17 0.7033599624060151\n",
      "18 0.689438439849624\n",
      "19 0.703125\n",
      "20 0.6888510338345865\n",
      "21 0.7040061090225563\n",
      "22 0.6912593984962406\n",
      "23 0.7037711466165414\n",
      "24 0.6914356203007519\n",
      "25 0.7034187030075187\n"
     ]
    }
   ],
   "source": [
    "#run thru 25 iterations of k, record testing accuracy\n",
    "k_range = range(1,26)\n",
    "scores = {}\n",
    "scores_list = []\n",
    "for k in k_range:\n",
    "    knn = KNeighborsClassifier(n_neighbors=k)\n",
    "    knn.fit(X_train_resampled, y_train_resampled)\n",
    "    y_pred=knn.predict(X_test)\n",
    "    scores[k] = metrics.accuracy_score(y_test, y_pred)\n",
    "    print(k, knn.score(X_test, y_test))\n",
    "    scores_list.append(metrics.accuracy_score(y_test,y_pred))"
   ]
  },
  {
   "cell_type": "code",
   "execution_count": 90,
   "metadata": {},
   "outputs": [
    {
     "data": {
      "text/plain": [
       "Text(0, 0.5, 'Testing Accuracy')"
      ]
     },
     "execution_count": 90,
     "metadata": {},
     "output_type": "execute_result"
    },
    {
     "data": {
      "image/png": "[encoded data removed]",
      "text/plain": [
       "<Figure size 432x288 with 1 Axes>"
      ]
     },
     "metadata": {
      "needs_background": "light"
     },
     "output_type": "display_data"
    }
   ],
   "source": [
    "%matplotlib inline\n",
    "\n",
    "plt.plot(k_range, scores_list)\n",
    "plt.xlabel('Value of K for KNN')\n",
    "plt.ylabel('Testing Accuracy')"
   ]
  },
  {
   "cell_type": "code",
   "execution_count": 92,
   "metadata": {},
   "outputs": [
    {
     "name": "stdout",
     "output_type": "stream",
     "text": [
      "Precision Score: 0.9302593659942363\n",
      "Recall Score: 0.6913686014135789\n",
      "Accuracy Score: 0.7034187030075187\n",
      "F1 Score: 0.7932178400294876\n"
     ]
    }
   ],
   "source": [
    "print_metrics(y_test, y_pred)"
   ]
  },
  {
   "cell_type": "code",
   "execution_count": 100,
   "metadata": {
    "collapsed": true
   },
   "outputs": [
    {
     "name": "stdout",
     "output_type": "stream",
     "text": [
      "[0.84198778 0.84191976]\n",
      "[0.84232786 0.84170411 0.84407631]\n",
      "[0.84123348 0.84368208 0.84368208 0.84368208]\n",
      "[0.84286658 0.84059035 0.8445554  0.84139805 0.84439712]\n",
      "[0.84290749 0.84201251 0.84104326 0.84377478 0.8413076  0.84499471]\n",
      "[0.84251645 0.84148849 0.84200247 0.84457237 0.84138569 0.83984375\n",
      " 0.84649393]\n",
      "[0.84459063 0.83916823 0.84269267 0.84234023 0.84480733 0.84314417\n",
      " 0.84196922 0.84631653]\n",
      "[0.84445619 0.84035946 0.84392758 0.84273821 0.8445678  0.8397885\n",
      " 0.84309319 0.84613351 0.84679445]\n",
      "[0.84508076 0.84317181 0.84214391 0.83803231 0.84096916 0.84711411\n",
      " 0.84050521 0.84035835 0.84402996 0.84826675]\n",
      "[0.8468745  0.8442901  0.84057503 0.84057503 0.84461315 0.84348247\n",
      " 0.84216478 0.84491115 0.84248788 0.84440136 0.84779447]\n",
      "[0.84760395 0.84370044 0.83823789 0.84599119 0.83753304 0.84138174\n",
      " 0.84755023 0.83732816 0.84261544 0.84050053 0.84279168 0.8482552 ]\n",
      "[0.84748998 0.84004581 0.84042756 0.8465356  0.84195457 0.83813705\n",
      " 0.84459717 0.84514035 0.84284896 0.84132137 0.84552225 0.84934123\n",
      " 0.84743174]\n",
      "[0.84930099 0.84231086 0.84046053 0.84046053 0.84046053 0.84354441\n",
      " 0.83696546 0.84991776 0.84046053 0.84436678 0.83819901 0.84416118\n",
      " 0.84930099 0.84409708]\n",
      "[0.84739044 0.84254569 0.84474785 0.83682008 0.84339207 0.83586693\n",
      " 0.84159506 0.84600132 0.84820445 0.83740912 0.84137475 0.84247632\n",
      " 0.84203569 0.84842476 0.84710289]\n",
      "[0.84801503 0.84163534 0.84281015 0.83599624 0.85197368 0.83364662\n",
      " 0.84515977 0.83905075 0.84891917 0.84046053 0.84257519 0.84492481\n",
      " 0.84398496 0.84277321 0.84770858 0.8453584 ]\n",
      "[0.84626903 0.84502121 0.83903169 0.83528825 0.85097354 0.84219725\n",
      " 0.83595506 0.84069913 0.84519351 0.84669164 0.83445693 0.8474407\n",
      " 0.83445693 0.8474407  0.84369538 0.84719101 0.84394507]\n",
      "[0.84936575 0.84011628 0.84593023 0.8390592  0.84196617 0.84588951\n",
      " 0.83928099 0.84377478 0.83690193 0.85117632 0.84377478 0.83848797\n",
      " 0.84641819 0.83976732 0.84664199 0.84611317 0.84637758 0.84584876]\n",
      "[0.84937238 0.84128312 0.84016736 0.84016736 0.83821478 0.85104603\n",
      " 0.82952009 0.84430804 0.83705357 0.84570312 0.84207589 0.83896176\n",
      " 0.84398549 0.84063634 0.84119453 0.84621825 0.84593916 0.84426458\n",
      " 0.84621825]\n",
      "[0.84762184 0.84380505 0.83940106 0.84674105 0.83118027 0.85022026\n",
      " 0.84229075 0.83729809 0.84581498 0.83607521 0.846651   0.84988249\n",
      " 0.83254994 0.8487074  0.83813161 0.8413631  0.8413631  0.84753231\n",
      " 0.84988249 0.84841363]\n",
      "[0.84613013 0.84181314 0.83811286 0.84212149 0.83410422 0.84520506\n",
      " 0.84798027 0.84119642 0.84427999 0.83348751 0.84366327 0.84890533\n",
      " 0.83657108 0.84484886 0.85132634 0.8325108  0.85256015 0.84361505\n",
      " 0.84423196 0.84762492 0.84480099]\n",
      "[0.84560724 0.84689922 0.83817829 0.84883721 0.83494832 0.8498062\n",
      " 0.84883721 0.83010336 0.84140827 0.84749596 0.83747981 0.84975767\n",
      " 0.84523425 0.83780291 0.84458805 0.84168013 0.83263328 0.84938591\n",
      " 0.84195217 0.84680026 0.84518423 0.84680026]\n",
      "[0.84976367 0.84638758 0.84064821 0.84093212 0.84059439 0.83823033\n",
      " 0.84734887 0.84363391 0.83316447 0.84262074 0.83519081 0.84527027\n",
      " 0.84695946 0.84290541 0.83581081 0.84898649 0.84222973 0.83716216\n",
      " 0.84898649 0.83986486 0.8472973  0.84493243 0.85      ]\n",
      "[0.84954193 0.84319944 0.84319944 0.84742777 0.83897111 0.83368569\n",
      " 0.84883721 0.84637068 0.8354475  0.84073291 0.84601832 0.84108527\n",
      " 0.84848485 0.84772647 0.83820938 0.84279168 0.85054635 0.8409732\n",
      " 0.83956276 0.84414669 0.84132581 0.84873061 0.84238364 0.85155148]\n",
      "[0.84917431 0.84550459 0.84293578 0.84036697 0.84550459 0.82788991\n",
      " 0.84954128 0.84990826 0.82715596 0.84251101 0.84428939 0.83621006\n",
      " 0.84686008 0.84502387 0.84943077 0.839148   0.839148   0.84722732\n",
      " 0.83841351 0.84465663 0.84649284 0.84171869 0.85016526 0.84024972\n",
      " 0.84649284]\n"
     ]
    }
   ],
   "source": [
    "#try various n_neighbors\n",
    "for i in range(2,26):\n",
    "    knn_cv = KNeighborsClassifier(n_neighbors=20)\n",
    "    cv_scores = cross_val_score(knn_cv, X, y, cv=i)\n",
    "    print(cv_scores)"
   ]
  },
  {
   "cell_type": "code",
   "execution_count": 109,
   "metadata": {},
   "outputs": [
    {
     "name": "stdout",
     "output_type": "stream",
     "text": [
      "{'n_neighbors': 23}\n",
      "0.843613240520457\n"
     ]
    }
   ],
   "source": [
    "# create another knn model\n",
    "knn2 = KNeighborsClassifier(p=1)\n",
    "\n",
    "# create a duct if all values we want to test for n_neighbors\n",
    "param_grid = {'n_neighbors': np.arange(1,25)}\n",
    "\n",
    "#use gridsearch to test all values for n_neighbors\n",
    "knn_gscv = GridSearchCV(knn2, param_grid, cv=5)\n",
    "\n",
    "#fit moxel to data\n",
    "knn_gscv.fit(X, y)\n",
    "print(knn_gscv.best_params_)\n",
    "print(knn_gscv.best_score_)"
   ]
  },
  {
   "cell_type": "code",
   "execution_count": 110,
   "metadata": {},
   "outputs": [
    {
     "name": "stdout",
     "output_type": "stream",
     "text": [
      "1    55985\n",
      "0    12109\n",
      "Name: NYCgov_Pov_Stat, dtype: int64\n",
      "1    23610\n",
      "0    23610\n",
      "dtype: int64\n"
     ]
    }
   ],
   "source": [
    "# Split the data into a training set and a test set\n",
    "X_train, X_test, y_train, y_test = train_test_split(X_train, y_train, random_state=0)\n",
    "print(y.value_counts()) #Previous original class distribution\n",
    "smote = SMOTE()\n",
    "X_train_resampled, y_train_resampled = smote.fit_sample(X_train, y_train) # fitting ONLY on training data\n",
    "print(pd.Series(y_train_resampled).value_counts()) #Preview synthetic sample class distribution"
   ]
  },
  {
   "cell_type": "code",
   "execution_count": 111,
   "metadata": {
    "collapsed": true
   },
   "outputs": [
    {
     "name": "stdout",
     "output_type": "stream",
     "text": [
      "1 0.747702589807853\n",
      "2 0.6823308270676691\n",
      "3 0.7180451127819549\n",
      "4 0.6740810359231412\n",
      "5 0.7059314954051796\n",
      "6 0.6707393483709273\n",
      "7 0.6997702589807853\n",
      "8 0.6702172096908939\n",
      "9 0.6958020050125313\n",
      "10 0.6730367585630743\n",
      "11 0.6931913116123642\n",
      "12 0.6730367585630743\n",
      "13 0.6923558897243107\n",
      "14 0.674812030075188\n",
      "15 0.6954887218045113\n",
      "16 0.6779448621553885\n",
      "17 0.6969507101086049\n",
      "18 0.6787802840434419\n",
      "19 0.6958020050125313\n",
      "20 0.681077694235589\n",
      "21 0.6942355889724311\n",
      "22 0.681704260651629\n",
      "23 0.6921470342522974\n",
      "24 0.681077694235589\n",
      "25 0.6905806182121972\n"
     ]
    }
   ],
   "source": [
    "#run thru 25 iterations of k, record testing accuracy\n",
    "k_range = range(1,26)\n",
    "scores = {}\n",
    "scores_list = []\n",
    "for k in k_range:\n",
    "    knn = KNeighborsClassifier(n_neighbors=k)\n",
    "    knn.fit(X_train_resampled, y_train_resampled)\n",
    "    y_pred=knn.predict(X_test)\n",
    "    scores[k] = metrics.accuracy_score(y_test, y_pred)\n",
    "    print(k, knn.score(X_test, y_test))\n",
    "    scores_list.append(metrics.accuracy_score(y_test,y_pred))"
   ]
  },
  {
   "cell_type": "code",
   "execution_count": 112,
   "metadata": {},
   "outputs": [
    {
     "data": {
      "text/plain": [
       "Text(0, 0.5, 'Testing Accuracy')"
      ]
     },
     "execution_count": 112,
     "metadata": {},
     "output_type": "execute_result"
    },
    {
     "data": {
      "image/png": "[encoded data removed]",
      "text/plain": [
       "<Figure size 432x288 with 1 Axes>"
      ]
     },
     "metadata": {
      "needs_background": "light"
     },
     "output_type": "display_data"
    }
   ],
   "source": [
    "%matplotlib inline\n",
    "\n",
    "plt.plot(k_range, scores_list)\n",
    "plt.xlabel('Value of K for KNN')\n",
    "plt.ylabel('Testing Accuracy')"
   ]
  },
  {
   "cell_type": "code",
   "execution_count": 108,
   "metadata": {},
   "outputs": [
    {
     "name": "stdout",
     "output_type": "stream",
     "text": [
      "Precision Score: 0.9283711445322458\n",
      "Recall Score: 0.6964336934697389\n",
      "Accuracy Score: 0.7073151629072681\n",
      "F1 Score: 0.7958481289265227\n"
     ]
    }
   ],
   "source": [
    "print_metrics(y_test, y_pred)"
   ]
  },
  {
   "cell_type": "code",
   "execution_count": 116,
   "metadata": {},
   "outputs": [
    {
     "name": "stdout",
     "output_type": "stream",
     "text": [
      "[[  751  2266]\n",
      " [  353 13654]] \n",
      " [[1259  408]\n",
      " [2555 5354]]\n"
     ]
    }
   ],
   "source": [
    "cnf_matrix2 = confusion_matrix(y_test, y_pred, labels=None, sample_weight=None)\n",
    "print(cnf_matrix,'\\n',cnf_matrix2)"
   ]
  },
  {
   "cell_type": "code",
   "execution_count": null,
   "metadata": {},
   "outputs": [],
   "source": []
  },
  {
   "cell_type": "code",
   "execution_count": null,
   "metadata": {},
   "outputs": [],
   "source": []
  },
  {
   "cell_type": "code",
   "execution_count": null,
   "metadata": {},
   "outputs": [],
   "source": []
  },
  {
   "cell_type": "code",
   "execution_count": null,
   "metadata": {},
   "outputs": [],
   "source": []
  }
 ],
 "metadata": {
  "kernelspec": {
   "display_name": "Python 3",
   "language": "python",
   "name": "python3"
  },
  "language_info": {
   "codemirror_mode": {
    "name": "ipython",
    "version": 3
   },
   "file_extension": ".py",
   "mimetype": "text/x-python",
   "name": "python",
   "nbconvert_exporter": "python",
   "pygments_lexer": "ipython3",
   "version": "3.7.3"
  }
 },
 "nbformat": 4,
 "nbformat_minor": 2
}
