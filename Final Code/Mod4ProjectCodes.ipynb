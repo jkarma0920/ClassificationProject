{
 "cells": [
  {
   "cell_type": "code",
   "execution_count": 1,
   "metadata": {},
   "outputs": [
    {
     "name": "stdout",
     "output_type": "stream",
     "text": [
      "Interactive namespace is empty.\n"
     ]
    }
   ],
   "source": [
    "%whos\n",
    "#%reset"
   ]
  },
  {
   "cell_type": "code",
   "execution_count": 2,
   "metadata": {},
   "outputs": [],
   "source": [
    "import pandas as pd\n",
    "import numpy as np\n",
    "import statsmodels.api as sm\n",
    "from sklearn.preprocessing import StandardScaler"
   ]
  },
  {
   "cell_type": "code",
   "execution_count": null,
   "metadata": {},
   "outputs": [],
   "source": []
  },
  {
   "cell_type": "code",
   "execution_count": null,
   "metadata": {},
   "outputs": [],
   "source": []
  },
  {
   "cell_type": "code",
   "execution_count": null,
   "metadata": {},
   "outputs": [],
   "source": []
  },
  {
   "cell_type": "code",
   "execution_count": null,
   "metadata": {},
   "outputs": [],
   "source": []
  },
  {
   "cell_type": "code",
   "execution_count": null,
   "metadata": {},
   "outputs": [],
   "source": []
  },
  {
   "cell_type": "code",
   "execution_count": null,
   "metadata": {},
   "outputs": [],
   "source": []
  },
  {
   "cell_type": "code",
   "execution_count": null,
   "metadata": {},
   "outputs": [],
   "source": []
  },
  {
   "cell_type": "code",
   "execution_count": null,
   "metadata": {},
   "outputs": [],
   "source": [
    "# don't forget to add_constant (from 1.08.10)\n",
    "import statsmodels.api as sm\n",
    "predictors_int = sm.add_constant(predictors)\n",
    "model = sm.OLS(data['mpg'],predictors_int).fit()\n",
    "model.summary()"
   ]
  },
  {
   "cell_type": "code",
   "execution_count": null,
   "metadata": {},
   "outputs": [],
   "source": [
    "# 4.29.01\n",
    "\n",
    "# transform column variables to 0's and 1's\n",
    "income_bin = income > 4\n",
    "income_bin =income_bin.astype(int)  \n",
    "\n",
    "# create logistic regression object\n",
    "# solver must be specified to avoid warning, see documentation for more information\n",
    "# liblinear was the default solver for previous version of scikit-learn\n",
    "regr = LogisticRegression(C=1e5, solver='liblinear')\n",
    "# train the model using the training sets\n",
    "regr.fit(age, income_bin)\n",
    "\n",
    "# store the coefficients\n",
    "coef = regr.coef_\n",
    "interc = regr.intercept_\n",
    "# create the linear predictor\n",
    "lin_pred= (age * coef + interc)\n",
    "# perform the log transformation\n",
    "mod_income = 1 / (1 + np.exp(-lin_pred))\n",
    "# sort the numbers to make sure plot looks right\n",
    "age_ordered, mod_income_ordered = zip(*sorted(zip(age ,mod_income.ravel()),key=lambda x: x[0]))\n",
    "\n",
    "# ------------------------------------------------\n",
    "# convert race and sex using get_dummies \n",
    "# age will be ignored by get_dummies because it is numeric, see documentation for more information\n",
    "x_feats = [\"Race\", \"Sex\", \"Age\"]\n",
    "X = pd.get_dummies(salaries[x_feats], drop_first=True, dtype=float)\n",
    "# convert target using get_dummies\n",
    "y = pd.get_dummies(salaries[\"Target\"], dtype=float)\n",
    "\n",
    "import statsmodels.api as sm\n",
    "\n",
    "# create intercept term required for sm.Logit, see documentation for more information\n",
    "X = sm.add_constant(X)\n",
    "# fit model\n",
    "logit_model = sm.Logit(y.iloc[:,1], X)\n",
    "# get results of the fit\n",
    "result = logit_model.fit()\n",
    "\n",
    "#You can also use scikit learn to retrieve the parameter estimates. \n",
    "#The disadvantage here though is that there are no p-values for \n",
    "#your parameter estimates!\n",
    "logreg = LogisticRegression(fit_intercept = False, C = 1e15, solver='liblinear')\n",
    "model_log = logreg.fit(X, y.iloc[:,1])\n",
    "model_log\n",
    "\n",
    "model_log.coef_"
   ]
  }
 ],
 "metadata": {
  "kernelspec": {
   "display_name": "Python 3",
   "language": "python",
   "name": "python3"
  },
  "language_info": {
   "codemirror_mode": {
    "name": "ipython",
    "version": 3
   },
   "file_extension": ".py",
   "mimetype": "text/x-python",
   "name": "python",
   "nbconvert_exporter": "python",
   "pygments_lexer": "ipython3",
   "version": "3.7.3"
  }
 },
 "nbformat": 4,
 "nbformat_minor": 2
}
